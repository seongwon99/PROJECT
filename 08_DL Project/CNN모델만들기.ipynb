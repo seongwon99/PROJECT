{
 "cells": [
  {
   "cell_type": "markdown",
   "metadata": {},
   "source": [
    "### 수화 자음, 모음 분류모델 만들기"
   ]
  },
  {
   "cell_type": "code",
   "execution_count": 1,
   "metadata": {},
   "outputs": [],
   "source": [
    "import pandas as pd\n",
    "import numpy as np\n",
    "import os\n",
    "import cv2\n",
    "import glob\n",
    "\n",
    "os.environ['KMP_DUPLICATE_LIB_OK'] = 'True'"
   ]
  },
  {
   "cell_type": "code",
   "execution_count": 2,
   "metadata": {},
   "outputs": [],
   "source": [
    "import matplotlib.pyplot as plt"
   ]
  },
  {
   "cell_type": "code",
   "execution_count": 3,
   "metadata": {},
   "outputs": [
    {
     "data": {
      "text/plain": [
       "294"
      ]
     },
     "execution_count": 3,
     "metadata": {},
     "output_type": "execute_result"
    }
   ],
   "source": [
    "filepath='./newHAND/'\n",
    "file_names = os.listdir(filepath)\n",
    "\n",
    "len(os.listdir(filepath+file_names[0]))"
   ]
  },
  {
   "cell_type": "code",
   "execution_count": 4,
   "metadata": {},
   "outputs": [
    {
     "data": {
      "text/plain": [
       "['./newHAND\\\\J1',\n",
       " './newHAND\\\\J10',\n",
       " './newHAND\\\\J11',\n",
       " './newHAND\\\\J12',\n",
       " './newHAND\\\\J13',\n",
       " './newHAND\\\\J14',\n",
       " './newHAND\\\\J2',\n",
       " './newHAND\\\\J3',\n",
       " './newHAND\\\\J4',\n",
       " './newHAND\\\\J5',\n",
       " './newHAND\\\\J6',\n",
       " './newHAND\\\\J7',\n",
       " './newHAND\\\\J8',\n",
       " './newHAND\\\\J9',\n",
       " './newHAND\\\\M1',\n",
       " './newHAND\\\\M10',\n",
       " './newHAND\\\\M11',\n",
       " './newHAND\\\\M12',\n",
       " './newHAND\\\\M13',\n",
       " './newHAND\\\\M14',\n",
       " './newHAND\\\\M15',\n",
       " './newHAND\\\\M16',\n",
       " './newHAND\\\\M17',\n",
       " './newHAND\\\\M2',\n",
       " './newHAND\\\\M3',\n",
       " './newHAND\\\\M4',\n",
       " './newHAND\\\\M5',\n",
       " './newHAND\\\\M6',\n",
       " './newHAND\\\\M7',\n",
       " './newHAND\\\\M8',\n",
       " './newHAND\\\\M9']"
      ]
     },
     "execution_count": 4,
     "metadata": {},
     "output_type": "execute_result"
    }
   ],
   "source": [
    "# 폴더 불러오기\n",
    "filepath='./newHAND/'\n",
    "files=glob.glob(filepath+'*')\n",
    "files"
   ]
  },
  {
   "cell_type": "markdown",
   "metadata": {},
   "source": [
    "### 이미지 전처리"
   ]
  },
  {
   "cell_type": "code",
   "execution_count": 5,
   "metadata": {},
   "outputs": [
    {
     "name": "stdout",
     "output_type": "stream",
     "text": [
      "(9114, 28, 28, 3) (9114,) 4\n"
     ]
    }
   ],
   "source": [
    "data_list = []\n",
    "label_list = []\n",
    "label_Dict={\n",
    "    'J1': 0, 'J2': 1, 'J3': 2, 'J4': 3, 'J5': 4, 'J6': 5, 'J7': 6, 'J8': 7, 'J9': 8, 'J10': 9,\n",
    "    'J11': 10, 'J12': 11, 'J13': 12, 'J14': 13, 'M1': 14, 'M2': 15, 'M3': 16, 'M4': 17, 'M5': 18,\n",
    "    'M6': 19, 'M7': 20, 'M8': 21, 'M9': 22, 'M10': 23, 'M11': 24, 'M12': 25, 'M13': 26, 'M14': 27,\n",
    "    'M15': 28, 'M16': 29, 'M17': 30\n",
    "}\n",
    "\n",
    "for image_folder in files:\n",
    "    imgs = glob.glob(image_folder + '/*')\n",
    "    label_list.extend(str(label_Dict[f'{image_folder[10:]}'])*len(imgs))\n",
    "    label = label_Dict[f'{image_folder[10:]}']\n",
    "\n",
    "    for img_path in imgs:\n",
    "        # 이미지 파일 읽기 \n",
    "        img = cv2.imread(img_path) #,cv2.IMREAD_GRAYSCALE\n",
    "        data_list.append(img)\n",
    "        label_list.append(label)\n",
    "\n",
    "# 리스트를 NumPy 배열로 변환\n",
    "imgNP = np.array(data_list).astype('uint8')     # 용량 많.astype('uint16')으면  # 써서 줄이기\n",
    "label = np.array(label_list)\n",
    "\n",
    "#스케일링\n",
    "imgNP=imgNP/255    # 배경 흑백 하고 싶으면 (255-imgNP)\n",
    "\n",
    "print(imgNP.shape, label.shape,imgNP.ndim)"
   ]
  },
  {
   "cell_type": "code",
   "execution_count": 6,
   "metadata": {},
   "outputs": [],
   "source": [
    "# 라벨 원핫인코딩\n",
    "# from keras.utils import to_categorical\n",
    "# label_encoded=to_categorical(label)\n",
    "# label_encoded"
   ]
  },
  {
   "cell_type": "markdown",
   "metadata": {},
   "source": [
    "### CNN모델만들기"
   ]
  },
  {
   "cell_type": "code",
   "execution_count": 7,
   "metadata": {},
   "outputs": [],
   "source": [
    "from keras.models import Sequential\n",
    "from keras.layers import Dense, Dropout, Flatten, Conv2D, MaxPooling2D\n",
    "from keras.callbacks import ModelCheckpoint, EarlyStopping, LearningRateScheduler\n",
    "from sklearn.model_selection import train_test_split"
   ]
  },
  {
   "cell_type": "code",
   "execution_count": 8,
   "metadata": {},
   "outputs": [],
   "source": [
    "trainx,testx, trainy,testy=train_test_split(imgNP,label)"
   ]
  },
  {
   "cell_type": "code",
   "execution_count": 9,
   "metadata": {},
   "outputs": [
    {
     "data": {
      "text/plain": [
       "(6835, 28, 28, 3)"
      ]
     },
     "execution_count": 9,
     "metadata": {},
     "output_type": "execute_result"
    }
   ],
   "source": [
    "trainx.shape"
   ]
  },
  {
   "cell_type": "code",
   "execution_count": 10,
   "metadata": {},
   "outputs": [
    {
     "data": {
      "text/plain": [
       "(6835,)"
      ]
     },
     "execution_count": 10,
     "metadata": {},
     "output_type": "execute_result"
    }
   ],
   "source": [
    "trainy.shape"
   ]
  },
  {
   "cell_type": "code",
   "execution_count": 11,
   "metadata": {},
   "outputs": [
    {
     "name": "stdout",
     "output_type": "stream",
     "text": [
      "Model: \"sequential\"\n",
      "_________________________________________________________________\n",
      " Layer (type)                Output Shape              Param #   \n",
      "=================================================================\n",
      " conv2d (Conv2D)             (None, 26, 26, 32)        896       \n",
      "                                                                 \n",
      " conv2d_1 (Conv2D)           (None, 24, 24, 64)        18496     \n",
      "                                                                 \n",
      " max_pooling2d (MaxPooling2D  (None, 12, 12, 64)       0         \n",
      " )                                                               \n",
      "                                                                 \n",
      " dropout (Dropout)           (None, 12, 12, 64)        0         \n",
      "                                                                 \n",
      " flatten (Flatten)           (None, 9216)              0         \n",
      "                                                                 \n",
      " dense (Dense)               (None, 128)               1179776   \n",
      "                                                                 \n",
      " dropout_1 (Dropout)         (None, 128)               0         \n",
      "                                                                 \n",
      " dense_1 (Dense)             (None, 31)                3999      \n",
      "                                                                 \n",
      "=================================================================\n",
      "Total params: 1,203,167\n",
      "Trainable params: 1,203,167\n",
      "Non-trainable params: 0\n",
      "_________________________________________________________________\n"
     ]
    }
   ],
   "source": [
    "model=Sequential()\n",
    "\n",
    "model.add(Conv2D(32,kernel_size=(3,3), input_shape=(28,28,3),activation='relu'))\n",
    "model.add(Conv2D(64,(3,3), activation='relu'))\n",
    "model.add(MaxPooling2D(pool_size=(2,2)))\n",
    "model.add(Dropout(0.25))\n",
    "model.add(Flatten())\n",
    "model.add(Dense(128, activation='relu'))\n",
    "model.add(Dropout(0.5))\n",
    "model.add(Dense(31,activation=('softmax')))\n",
    "\n",
    "model.summary()"
   ]
  },
  {
   "cell_type": "code",
   "execution_count": 12,
   "metadata": {},
   "outputs": [],
   "source": [
    "# 모델 구조 출력 및 이미지 파일로 저장\n",
    "# from tensorflow.python.keras.utils.vis_utils import plot_model\n",
    "# from keras.utils import plot_model\n",
    "# plot_model(model, show_shapes=True, show_layer_names=True, to_file='functional_cnn.png')"
   ]
  },
  {
   "cell_type": "code",
   "execution_count": 13,
   "metadata": {},
   "outputs": [],
   "source": [
    "model.compile(loss='sparse_categorical_crossentropy',optimizer='adam',metrics=['accuracy'])"
   ]
  },
  {
   "cell_type": "code",
   "execution_count": 14,
   "metadata": {},
   "outputs": [],
   "source": [
    "modelpath='./NewFile'\n",
    "\n",
    "mpath=modelpath+'/bestt_test.h5'\n",
    "\n",
    "mcCB=ModelCheckpoint(filepath=mpath, monitor='val_loss',verbose=1, save_best_only=True)"
   ]
  },
  {
   "cell_type": "code",
   "execution_count": 15,
   "metadata": {},
   "outputs": [],
   "source": [
    "if not os.path.exists(modelpath):\n",
    "    os.mkdir(modelpath)\n",
    "    print(f'{modelpath} 생성')"
   ]
  },
  {
   "cell_type": "code",
   "execution_count": 16,
   "metadata": {},
   "outputs": [],
   "source": [
    "# 조기종료 처리 콜백 객체\n",
    "\n",
    "# esCB=EarlyStopping()"
   ]
  },
  {
   "cell_type": "code",
   "execution_count": 17,
   "metadata": {},
   "outputs": [],
   "source": [
    "# 에포크마다의 학습률 제어 콜백객체\n",
    "\n",
    "def scheduler(epoch,lr):\n",
    "    if epoch>10:\n",
    "        return lr*0.00001\n",
    "    else:\n",
    "        return lr\n",
    "    \n",
    "\n",
    "lrCB=LearningRateScheduler(scheduler)"
   ]
  },
  {
   "cell_type": "code",
   "execution_count": 18,
   "metadata": {},
   "outputs": [
    {
     "name": "stdout",
     "output_type": "stream",
     "text": [
      "Epoch 1/100\n",
      "214/214 [==============================] - ETA: 0s - loss: 2.7750 - accuracy: 0.2013\n",
      "Epoch 1: val_loss improved from inf to 1.38980, saving model to ./NewFile\\bestt_test.h5\n",
      "214/214 [==============================] - 14s 61ms/step - loss: 2.7750 - accuracy: 0.2013 - val_loss: 1.3898 - val_accuracy: 0.6556 - lr: 0.0010\n",
      "Epoch 2/100\n",
      "214/214 [==============================] - ETA: 0s - loss: 1.3479 - accuracy: 0.5659\n",
      "Epoch 2: val_loss improved from 1.38980 to 0.51814, saving model to ./NewFile\\bestt_test.h5\n",
      "214/214 [==============================] - 13s 61ms/step - loss: 1.3479 - accuracy: 0.5659 - val_loss: 0.5181 - val_accuracy: 0.8916 - lr: 0.0010\n",
      "Epoch 3/100\n",
      "213/214 [============================>.] - ETA: 0s - loss: 0.7746 - accuracy: 0.7383\n",
      "Epoch 3: val_loss improved from 0.51814 to 0.24327, saving model to ./NewFile\\bestt_test.h5\n",
      "214/214 [==============================] - 11s 51ms/step - loss: 0.7735 - accuracy: 0.7387 - val_loss: 0.2433 - val_accuracy: 0.9500 - lr: 0.0010\n",
      "Epoch 4/100\n",
      "214/214 [==============================] - ETA: 0s - loss: 0.5392 - accuracy: 0.8193\n",
      "Epoch 4: val_loss improved from 0.24327 to 0.12563, saving model to ./NewFile\\bestt_test.h5\n",
      "214/214 [==============================] - 12s 56ms/step - loss: 0.5392 - accuracy: 0.8193 - val_loss: 0.1256 - val_accuracy: 0.9767 - lr: 0.0010\n",
      "Epoch 5/100\n",
      "214/214 [==============================] - ETA: 0s - loss: 0.4102 - accuracy: 0.8598\n",
      "Epoch 5: val_loss improved from 0.12563 to 0.09620, saving model to ./NewFile\\bestt_test.h5\n",
      "214/214 [==============================] - 16s 74ms/step - loss: 0.4102 - accuracy: 0.8598 - val_loss: 0.0962 - val_accuracy: 0.9789 - lr: 0.0010\n",
      "Epoch 6/100\n",
      "213/214 [============================>.] - ETA: 0s - loss: 0.3292 - accuracy: 0.8900\n",
      "Epoch 6: val_loss improved from 0.09620 to 0.05700, saving model to ./NewFile\\bestt_test.h5\n",
      "214/214 [==============================] - 15s 70ms/step - loss: 0.3285 - accuracy: 0.8903 - val_loss: 0.0570 - val_accuracy: 0.9895 - lr: 0.0010\n",
      "Epoch 7/100\n",
      "214/214 [==============================] - ETA: 0s - loss: 0.2685 - accuracy: 0.9067\n",
      "Epoch 7: val_loss improved from 0.05700 to 0.05038, saving model to ./NewFile\\bestt_test.h5\n",
      "214/214 [==============================] - 15s 70ms/step - loss: 0.2685 - accuracy: 0.9067 - val_loss: 0.0504 - val_accuracy: 0.9886 - lr: 0.0010\n",
      "Epoch 8/100\n",
      "213/214 [============================>.] - ETA: 0s - loss: 0.2437 - accuracy: 0.9156\n",
      "Epoch 8: val_loss improved from 0.05038 to 0.03193, saving model to ./NewFile\\bestt_test.h5\n",
      "214/214 [==============================] - 13s 61ms/step - loss: 0.2440 - accuracy: 0.9156 - val_loss: 0.0319 - val_accuracy: 0.9939 - lr: 0.0010\n",
      "Epoch 9/100\n",
      "214/214 [==============================] - ETA: 0s - loss: 0.2207 - accuracy: 0.9200\n",
      "Epoch 9: val_loss improved from 0.03193 to 0.02842, saving model to ./NewFile\\bestt_test.h5\n",
      "214/214 [==============================] - 17s 82ms/step - loss: 0.2207 - accuracy: 0.9200 - val_loss: 0.0284 - val_accuracy: 0.9956 - lr: 0.0010\n",
      "Epoch 10/100\n",
      "214/214 [==============================] - ETA: 0s - loss: 0.1842 - accuracy: 0.9342\n",
      "Epoch 10: val_loss improved from 0.02842 to 0.01826, saving model to ./NewFile\\bestt_test.h5\n",
      "214/214 [==============================] - 19s 89ms/step - loss: 0.1842 - accuracy: 0.9342 - val_loss: 0.0183 - val_accuracy: 0.9961 - lr: 0.0010\n",
      "Epoch 11/100\n",
      "213/214 [============================>.] - ETA: 0s - loss: 0.1795 - accuracy: 0.9374\n",
      "Epoch 11: val_loss improved from 0.01826 to 0.01734, saving model to ./NewFile\\bestt_test.h5\n",
      "214/214 [==============================] - 13s 61ms/step - loss: 0.1792 - accuracy: 0.9375 - val_loss: 0.0173 - val_accuracy: 0.9969 - lr: 0.0010\n",
      "Epoch 12/100\n",
      "213/214 [============================>.] - ETA: 0s - loss: 0.1480 - accuracy: 0.9498\n",
      "Epoch 12: val_loss improved from 0.01734 to 0.01734, saving model to ./NewFile\\bestt_test.h5\n",
      "214/214 [==============================] - 11s 51ms/step - loss: 0.1476 - accuracy: 0.9500 - val_loss: 0.0173 - val_accuracy: 0.9969 - lr: 1.0000e-08\n",
      "Epoch 13/100\n",
      "214/214 [==============================] - ETA: 0s - loss: 0.1607 - accuracy: 0.9469\n",
      "Epoch 13: val_loss did not improve from 0.01734\n",
      "214/214 [==============================] - 16s 73ms/step - loss: 0.1607 - accuracy: 0.9469 - val_loss: 0.0173 - val_accuracy: 0.9969 - lr: 1.0000e-13\n",
      "Epoch 14/100\n",
      "214/214 [==============================] - ETA: 0s - loss: 0.1523 - accuracy: 0.9459\n",
      "Epoch 14: val_loss did not improve from 0.01734\n",
      "214/214 [==============================] - 17s 81ms/step - loss: 0.1523 - accuracy: 0.9459 - val_loss: 0.0173 - val_accuracy: 0.9969 - lr: 1.0000e-18\n",
      "Epoch 15/100\n",
      "214/214 [==============================] - ETA: 0s - loss: 0.1549 - accuracy: 0.9473\n",
      "Epoch 15: val_loss did not improve from 0.01734\n",
      "214/214 [==============================] - 19s 88ms/step - loss: 0.1549 - accuracy: 0.9473 - val_loss: 0.0173 - val_accuracy: 0.9969 - lr: 1.0000e-23\n",
      "Epoch 16/100\n",
      "214/214 [==============================] - ETA: 0s - loss: 0.1607 - accuracy: 0.9448\n",
      "Epoch 16: val_loss did not improve from 0.01734\n",
      "214/214 [==============================] - 17s 80ms/step - loss: 0.1607 - accuracy: 0.9448 - val_loss: 0.0173 - val_accuracy: 0.9969 - lr: 1.0000e-28\n",
      "Epoch 17/100\n",
      "214/214 [==============================] - ETA: 0s - loss: 0.1521 - accuracy: 0.9517\n",
      "Epoch 17: val_loss did not improve from 0.01734\n",
      "214/214 [==============================] - 17s 81ms/step - loss: 0.1521 - accuracy: 0.9517 - val_loss: 0.0173 - val_accuracy: 0.9969 - lr: 1.0000e-33\n",
      "Epoch 18/100\n",
      "214/214 [==============================] - ETA: 0s - loss: 0.1545 - accuracy: 0.9466\n",
      "Epoch 18: val_loss did not improve from 0.01734\n",
      "214/214 [==============================] - 17s 81ms/step - loss: 0.1545 - accuracy: 0.9466 - val_loss: 0.0173 - val_accuracy: 0.9969 - lr: 1.0000e-38\n",
      "Epoch 19/100\n",
      "214/214 [==============================] - ETA: 0s - loss: 0.1659 - accuracy: 0.9434\n",
      "Epoch 19: val_loss did not improve from 0.01734\n",
      "214/214 [==============================] - 17s 82ms/step - loss: 0.1659 - accuracy: 0.9434 - val_loss: 0.0173 - val_accuracy: 0.9969 - lr: 9.9492e-44\n",
      "Epoch 20/100\n",
      "214/214 [==============================] - ETA: 0s - loss: 0.1560 - accuracy: 0.9457\n",
      "Epoch 20: val_loss did not improve from 0.01734\n",
      "214/214 [==============================] - 17s 80ms/step - loss: 0.1560 - accuracy: 0.9457 - val_loss: 0.0173 - val_accuracy: 0.9969 - lr: 0.0000e+00\n",
      "Epoch 21/100\n",
      "214/214 [==============================] - ETA: 0s - loss: 0.1573 - accuracy: 0.9448\n",
      "Epoch 21: val_loss did not improve from 0.01734\n",
      "214/214 [==============================] - 20s 94ms/step - loss: 0.1573 - accuracy: 0.9448 - val_loss: 0.0173 - val_accuracy: 0.9969 - lr: 0.0000e+00\n",
      "Epoch 22/100\n",
      "214/214 [==============================] - ETA: 0s - loss: 0.1586 - accuracy: 0.9456\n",
      "Epoch 22: val_loss did not improve from 0.01734\n",
      "214/214 [==============================] - 19s 87ms/step - loss: 0.1586 - accuracy: 0.9456 - val_loss: 0.0173 - val_accuracy: 0.9969 - lr: 0.0000e+00\n",
      "Epoch 23/100\n",
      "214/214 [==============================] - ETA: 0s - loss: 0.1502 - accuracy: 0.9516\n",
      "Epoch 23: val_loss did not improve from 0.01734\n",
      "214/214 [==============================] - 17s 80ms/step - loss: 0.1502 - accuracy: 0.9516 - val_loss: 0.0173 - val_accuracy: 0.9969 - lr: 0.0000e+00\n",
      "Epoch 24/100\n",
      "214/214 [==============================] - ETA: 0s - loss: 0.1625 - accuracy: 0.9460\n",
      "Epoch 24: val_loss did not improve from 0.01734\n",
      "214/214 [==============================] - 18s 84ms/step - loss: 0.1625 - accuracy: 0.9460 - val_loss: 0.0173 - val_accuracy: 0.9969 - lr: 0.0000e+00\n",
      "Epoch 25/100\n",
      "214/214 [==============================] - ETA: 0s - loss: 0.1598 - accuracy: 0.9440\n",
      "Epoch 25: val_loss did not improve from 0.01734\n",
      "214/214 [==============================] - 18s 84ms/step - loss: 0.1598 - accuracy: 0.9440 - val_loss: 0.0173 - val_accuracy: 0.9969 - lr: 0.0000e+00\n",
      "Epoch 26/100\n",
      "214/214 [==============================] - ETA: 0s - loss: 0.1618 - accuracy: 0.9443\n",
      "Epoch 26: val_loss did not improve from 0.01734\n",
      "214/214 [==============================] - 17s 80ms/step - loss: 0.1618 - accuracy: 0.9443 - val_loss: 0.0173 - val_accuracy: 0.9969 - lr: 0.0000e+00\n",
      "Epoch 27/100\n",
      "214/214 [==============================] - ETA: 0s - loss: 0.1590 - accuracy: 0.9456\n",
      "Epoch 27: val_loss did not improve from 0.01734\n",
      "214/214 [==============================] - 18s 82ms/step - loss: 0.1590 - accuracy: 0.9456 - val_loss: 0.0173 - val_accuracy: 0.9969 - lr: 0.0000e+00\n",
      "Epoch 28/100\n",
      "214/214 [==============================] - ETA: 0s - loss: 0.1516 - accuracy: 0.9498\n",
      "Epoch 28: val_loss did not improve from 0.01734\n",
      "214/214 [==============================] - 17s 81ms/step - loss: 0.1516 - accuracy: 0.9498 - val_loss: 0.0173 - val_accuracy: 0.9969 - lr: 0.0000e+00\n",
      "Epoch 29/100\n",
      "214/214 [==============================] - ETA: 0s - loss: 0.1505 - accuracy: 0.9466\n",
      "Epoch 29: val_loss did not improve from 0.01734\n",
      "214/214 [==============================] - 21s 98ms/step - loss: 0.1505 - accuracy: 0.9466 - val_loss: 0.0173 - val_accuracy: 0.9969 - lr: 0.0000e+00\n",
      "Epoch 30/100\n",
      "214/214 [==============================] - ETA: 0s - loss: 0.1619 - accuracy: 0.9438\n",
      "Epoch 30: val_loss did not improve from 0.01734\n",
      "214/214 [==============================] - 22s 104ms/step - loss: 0.1619 - accuracy: 0.9438 - val_loss: 0.0173 - val_accuracy: 0.9969 - lr: 0.0000e+00\n",
      "Epoch 31/100\n",
      "214/214 [==============================] - ETA: 0s - loss: 0.1599 - accuracy: 0.9472\n",
      "Epoch 31: val_loss did not improve from 0.01734\n",
      "214/214 [==============================] - 17s 81ms/step - loss: 0.1599 - accuracy: 0.9472 - val_loss: 0.0173 - val_accuracy: 0.9969 - lr: 0.0000e+00\n",
      "Epoch 32/100\n",
      "214/214 [==============================] - ETA: 0s - loss: 0.1609 - accuracy: 0.9463\n",
      "Epoch 32: val_loss did not improve from 0.01734\n",
      "214/214 [==============================] - 17s 79ms/step - loss: 0.1609 - accuracy: 0.9463 - val_loss: 0.0173 - val_accuracy: 0.9969 - lr: 0.0000e+00\n",
      "Epoch 33/100\n",
      "214/214 [==============================] - ETA: 0s - loss: 0.1580 - accuracy: 0.9466\n",
      "Epoch 33: val_loss did not improve from 0.01734\n",
      "214/214 [==============================] - 17s 80ms/step - loss: 0.1580 - accuracy: 0.9466 - val_loss: 0.0173 - val_accuracy: 0.9969 - lr: 0.0000e+00\n",
      "Epoch 34/100\n",
      "214/214 [==============================] - ETA: 0s - loss: 0.1576 - accuracy: 0.9473\n",
      "Epoch 34: val_loss did not improve from 0.01734\n",
      "214/214 [==============================] - 20s 95ms/step - loss: 0.1576 - accuracy: 0.9473 - val_loss: 0.0173 - val_accuracy: 0.9969 - lr: 0.0000e+00\n",
      "Epoch 35/100\n",
      "214/214 [==============================] - ETA: 0s - loss: 0.1580 - accuracy: 0.9440\n",
      "Epoch 35: val_loss did not improve from 0.01734\n",
      "214/214 [==============================] - 17s 80ms/step - loss: 0.1580 - accuracy: 0.9440 - val_loss: 0.0173 - val_accuracy: 0.9969 - lr: 0.0000e+00\n",
      "Epoch 36/100\n",
      "214/214 [==============================] - ETA: 0s - loss: 0.1490 - accuracy: 0.9495\n",
      "Epoch 36: val_loss did not improve from 0.01734\n",
      "214/214 [==============================] - 18s 85ms/step - loss: 0.1490 - accuracy: 0.9495 - val_loss: 0.0173 - val_accuracy: 0.9969 - lr: 0.0000e+00\n",
      "Epoch 37/100\n",
      "214/214 [==============================] - ETA: 0s - loss: 0.1465 - accuracy: 0.9494\n",
      "Epoch 37: val_loss did not improve from 0.01734\n",
      "214/214 [==============================] - 18s 83ms/step - loss: 0.1465 - accuracy: 0.9494 - val_loss: 0.0173 - val_accuracy: 0.9969 - lr: 0.0000e+00\n",
      "Epoch 38/100\n",
      "214/214 [==============================] - ETA: 0s - loss: 0.1534 - accuracy: 0.9465\n",
      "Epoch 38: val_loss did not improve from 0.01734\n",
      "214/214 [==============================] - 18s 82ms/step - loss: 0.1534 - accuracy: 0.9465 - val_loss: 0.0173 - val_accuracy: 0.9969 - lr: 0.0000e+00\n",
      "Epoch 39/100\n",
      "214/214 [==============================] - ETA: 0s - loss: 0.1604 - accuracy: 0.9438\n",
      "Epoch 39: val_loss did not improve from 0.01734\n",
      "214/214 [==============================] - 20s 91ms/step - loss: 0.1604 - accuracy: 0.9438 - val_loss: 0.0173 - val_accuracy: 0.9969 - lr: 0.0000e+00\n",
      "Epoch 40/100\n",
      "214/214 [==============================] - ETA: 0s - loss: 0.1501 - accuracy: 0.9507\n",
      "Epoch 40: val_loss did not improve from 0.01734\n",
      "214/214 [==============================] - 17s 80ms/step - loss: 0.1501 - accuracy: 0.9507 - val_loss: 0.0173 - val_accuracy: 0.9969 - lr: 0.0000e+00\n",
      "Epoch 41/100\n",
      "214/214 [==============================] - ETA: 0s - loss: 0.1574 - accuracy: 0.9484\n",
      "Epoch 41: val_loss did not improve from 0.01734\n",
      "214/214 [==============================] - 17s 81ms/step - loss: 0.1574 - accuracy: 0.9484 - val_loss: 0.0173 - val_accuracy: 0.9969 - lr: 0.0000e+00\n",
      "Epoch 42/100\n",
      "214/214 [==============================] - ETA: 0s - loss: 0.1607 - accuracy: 0.9460\n",
      "Epoch 42: val_loss did not improve from 0.01734\n",
      "214/214 [==============================] - 17s 79ms/step - loss: 0.1607 - accuracy: 0.9460 - val_loss: 0.0173 - val_accuracy: 0.9969 - lr: 0.0000e+00\n",
      "Epoch 43/100\n",
      "214/214 [==============================] - ETA: 0s - loss: 0.1665 - accuracy: 0.9447\n",
      "Epoch 43: val_loss did not improve from 0.01734\n",
      "214/214 [==============================] - 17s 79ms/step - loss: 0.1665 - accuracy: 0.9447 - val_loss: 0.0173 - val_accuracy: 0.9969 - lr: 0.0000e+00\n",
      "Epoch 44/100\n",
      "214/214 [==============================] - ETA: 0s - loss: 0.1593 - accuracy: 0.9463\n",
      "Epoch 44: val_loss did not improve from 0.01734\n",
      "214/214 [==============================] - 18s 83ms/step - loss: 0.1593 - accuracy: 0.9463 - val_loss: 0.0173 - val_accuracy: 0.9969 - lr: 0.0000e+00\n",
      "Epoch 45/100\n",
      "214/214 [==============================] - ETA: 0s - loss: 0.1599 - accuracy: 0.9437\n",
      "Epoch 45: val_loss did not improve from 0.01734\n",
      "214/214 [==============================] - 19s 90ms/step - loss: 0.1599 - accuracy: 0.9437 - val_loss: 0.0173 - val_accuracy: 0.9969 - lr: 0.0000e+00\n",
      "Epoch 46/100\n",
      "214/214 [==============================] - ETA: 0s - loss: 0.1595 - accuracy: 0.9454\n",
      "Epoch 46: val_loss did not improve from 0.01734\n",
      "214/214 [==============================] - 23s 109ms/step - loss: 0.1595 - accuracy: 0.9454 - val_loss: 0.0173 - val_accuracy: 0.9969 - lr: 0.0000e+00\n",
      "Epoch 47/100\n",
      "214/214 [==============================] - ETA: 0s - loss: 0.1666 - accuracy: 0.9424\n",
      "Epoch 47: val_loss did not improve from 0.01734\n",
      "214/214 [==============================] - 21s 99ms/step - loss: 0.1666 - accuracy: 0.9424 - val_loss: 0.0173 - val_accuracy: 0.9969 - lr: 0.0000e+00\n",
      "Epoch 48/100\n",
      "214/214 [==============================] - ETA: 0s - loss: 0.1491 - accuracy: 0.9488\n",
      "Epoch 48: val_loss did not improve from 0.01734\n",
      "214/214 [==============================] - 18s 83ms/step - loss: 0.1491 - accuracy: 0.9488 - val_loss: 0.0173 - val_accuracy: 0.9969 - lr: 0.0000e+00\n",
      "Epoch 49/100\n",
      "214/214 [==============================] - ETA: 0s - loss: 0.1580 - accuracy: 0.9470\n",
      "Epoch 49: val_loss did not improve from 0.01734\n",
      "214/214 [==============================] - 18s 86ms/step - loss: 0.1580 - accuracy: 0.9470 - val_loss: 0.0173 - val_accuracy: 0.9969 - lr: 0.0000e+00\n",
      "Epoch 50/100\n",
      "214/214 [==============================] - ETA: 0s - loss: 0.1507 - accuracy: 0.9462\n",
      "Epoch 50: val_loss did not improve from 0.01734\n",
      "214/214 [==============================] - 18s 86ms/step - loss: 0.1507 - accuracy: 0.9462 - val_loss: 0.0173 - val_accuracy: 0.9969 - lr: 0.0000e+00\n",
      "Epoch 51/100\n",
      "214/214 [==============================] - ETA: 0s - loss: 0.1606 - accuracy: 0.9441\n",
      "Epoch 51: val_loss did not improve from 0.01734\n",
      "214/214 [==============================] - 17s 80ms/step - loss: 0.1606 - accuracy: 0.9441 - val_loss: 0.0173 - val_accuracy: 0.9969 - lr: 0.0000e+00\n",
      "Epoch 52/100\n",
      "214/214 [==============================] - ETA: 0s - loss: 0.1536 - accuracy: 0.9478\n",
      "Epoch 52: val_loss did not improve from 0.01734\n",
      "214/214 [==============================] - 18s 83ms/step - loss: 0.1536 - accuracy: 0.9478 - val_loss: 0.0173 - val_accuracy: 0.9969 - lr: 0.0000e+00\n",
      "Epoch 53/100\n",
      "214/214 [==============================] - ETA: 0s - loss: 0.1550 - accuracy: 0.9463\n",
      "Epoch 53: val_loss did not improve from 0.01734\n",
      "214/214 [==============================] - 19s 87ms/step - loss: 0.1550 - accuracy: 0.9463 - val_loss: 0.0173 - val_accuracy: 0.9969 - lr: 0.0000e+00\n",
      "Epoch 54/100\n",
      "214/214 [==============================] - ETA: 0s - loss: 0.1638 - accuracy: 0.9456\n",
      "Epoch 54: val_loss did not improve from 0.01734\n",
      "214/214 [==============================] - 18s 86ms/step - loss: 0.1638 - accuracy: 0.9456 - val_loss: 0.0173 - val_accuracy: 0.9969 - lr: 0.0000e+00\n",
      "Epoch 55/100\n",
      "214/214 [==============================] - ETA: 0s - loss: 0.1568 - accuracy: 0.9494\n",
      "Epoch 55: val_loss did not improve from 0.01734\n",
      "214/214 [==============================] - 18s 82ms/step - loss: 0.1568 - accuracy: 0.9494 - val_loss: 0.0173 - val_accuracy: 0.9969 - lr: 0.0000e+00\n",
      "Epoch 56/100\n",
      "214/214 [==============================] - ETA: 0s - loss: 0.1544 - accuracy: 0.9478\n",
      "Epoch 56: val_loss did not improve from 0.01734\n",
      "214/214 [==============================] - 18s 84ms/step - loss: 0.1544 - accuracy: 0.9478 - val_loss: 0.0173 - val_accuracy: 0.9969 - lr: 0.0000e+00\n",
      "Epoch 57/100\n",
      "214/214 [==============================] - ETA: 0s - loss: 0.1540 - accuracy: 0.9469\n",
      "Epoch 57: val_loss did not improve from 0.01734\n",
      "214/214 [==============================] - 18s 84ms/step - loss: 0.1540 - accuracy: 0.9469 - val_loss: 0.0173 - val_accuracy: 0.9969 - lr: 0.0000e+00\n",
      "Epoch 58/100\n",
      "214/214 [==============================] - ETA: 0s - loss: 0.1568 - accuracy: 0.9467\n",
      "Epoch 58: val_loss did not improve from 0.01734\n",
      "214/214 [==============================] - 18s 83ms/step - loss: 0.1568 - accuracy: 0.9467 - val_loss: 0.0173 - val_accuracy: 0.9969 - lr: 0.0000e+00\n",
      "Epoch 59/100\n",
      "214/214 [==============================] - ETA: 0s - loss: 0.1547 - accuracy: 0.9462\n",
      "Epoch 59: val_loss did not improve from 0.01734\n",
      "214/214 [==============================] - 19s 91ms/step - loss: 0.1547 - accuracy: 0.9462 - val_loss: 0.0173 - val_accuracy: 0.9969 - lr: 0.0000e+00\n",
      "Epoch 60/100\n",
      "214/214 [==============================] - ETA: 0s - loss: 0.1521 - accuracy: 0.9457\n",
      "Epoch 60: val_loss did not improve from 0.01734\n",
      "214/214 [==============================] - 20s 91ms/step - loss: 0.1521 - accuracy: 0.9457 - val_loss: 0.0173 - val_accuracy: 0.9969 - lr: 0.0000e+00\n",
      "Epoch 61/100\n",
      "214/214 [==============================] - ETA: 0s - loss: 0.1546 - accuracy: 0.9454\n",
      "Epoch 61: val_loss did not improve from 0.01734\n",
      "214/214 [==============================] - 18s 86ms/step - loss: 0.1546 - accuracy: 0.9454 - val_loss: 0.0173 - val_accuracy: 0.9969 - lr: 0.0000e+00\n",
      "Epoch 62/100\n",
      "214/214 [==============================] - ETA: 0s - loss: 0.1531 - accuracy: 0.9478\n",
      "Epoch 62: val_loss did not improve from 0.01734\n",
      "214/214 [==============================] - 18s 86ms/step - loss: 0.1531 - accuracy: 0.9478 - val_loss: 0.0173 - val_accuracy: 0.9969 - lr: 0.0000e+00\n",
      "Epoch 63/100\n",
      "214/214 [==============================] - ETA: 0s - loss: 0.1602 - accuracy: 0.9457\n",
      "Epoch 63: val_loss did not improve from 0.01734\n",
      "214/214 [==============================] - 19s 89ms/step - loss: 0.1602 - accuracy: 0.9457 - val_loss: 0.0173 - val_accuracy: 0.9969 - lr: 0.0000e+00\n",
      "Epoch 64/100\n",
      "214/214 [==============================] - ETA: 0s - loss: 0.1550 - accuracy: 0.9484\n",
      "Epoch 64: val_loss did not improve from 0.01734\n",
      "214/214 [==============================] - 18s 82ms/step - loss: 0.1550 - accuracy: 0.9484 - val_loss: 0.0173 - val_accuracy: 0.9969 - lr: 0.0000e+00\n",
      "Epoch 65/100\n",
      "214/214 [==============================] - ETA: 0s - loss: 0.1534 - accuracy: 0.9500\n",
      "Epoch 65: val_loss did not improve from 0.01734\n",
      "214/214 [==============================] - 18s 82ms/step - loss: 0.1534 - accuracy: 0.9500 - val_loss: 0.0173 - val_accuracy: 0.9969 - lr: 0.0000e+00\n",
      "Epoch 66/100\n",
      "214/214 [==============================] - ETA: 0s - loss: 0.1683 - accuracy: 0.9426\n",
      "Epoch 66: val_loss did not improve from 0.01734\n",
      "214/214 [==============================] - 18s 83ms/step - loss: 0.1683 - accuracy: 0.9426 - val_loss: 0.0173 - val_accuracy: 0.9969 - lr: 0.0000e+00\n",
      "Epoch 67/100\n",
      "214/214 [==============================] - ETA: 0s - loss: 0.1585 - accuracy: 0.9470\n",
      "Epoch 67: val_loss did not improve from 0.01734\n",
      "214/214 [==============================] - 19s 87ms/step - loss: 0.1585 - accuracy: 0.9470 - val_loss: 0.0173 - val_accuracy: 0.9969 - lr: 0.0000e+00\n",
      "Epoch 68/100\n",
      "214/214 [==============================] - ETA: 0s - loss: 0.1540 - accuracy: 0.9492\n",
      "Epoch 68: val_loss did not improve from 0.01734\n",
      "214/214 [==============================] - 18s 86ms/step - loss: 0.1540 - accuracy: 0.9492 - val_loss: 0.0173 - val_accuracy: 0.9969 - lr: 0.0000e+00\n",
      "Epoch 69/100\n",
      "214/214 [==============================] - ETA: 0s - loss: 0.1627 - accuracy: 0.9450\n",
      "Epoch 69: val_loss did not improve from 0.01734\n",
      "214/214 [==============================] - 18s 84ms/step - loss: 0.1627 - accuracy: 0.9450 - val_loss: 0.0173 - val_accuracy: 0.9969 - lr: 0.0000e+00\n",
      "Epoch 70/100\n",
      "214/214 [==============================] - ETA: 0s - loss: 0.1481 - accuracy: 0.9488\n",
      "Epoch 70: val_loss did not improve from 0.01734\n",
      "214/214 [==============================] - 18s 84ms/step - loss: 0.1481 - accuracy: 0.9488 - val_loss: 0.0173 - val_accuracy: 0.9969 - lr: 0.0000e+00\n",
      "Epoch 71/100\n",
      "214/214 [==============================] - ETA: 0s - loss: 0.1654 - accuracy: 0.9460\n",
      "Epoch 71: val_loss did not improve from 0.01734\n",
      "214/214 [==============================] - 17s 78ms/step - loss: 0.1654 - accuracy: 0.9460 - val_loss: 0.0173 - val_accuracy: 0.9969 - lr: 0.0000e+00\n",
      "Epoch 72/100\n",
      "214/214 [==============================] - ETA: 0s - loss: 0.1558 - accuracy: 0.9476\n",
      "Epoch 72: val_loss did not improve from 0.01734\n",
      "214/214 [==============================] - 19s 87ms/step - loss: 0.1558 - accuracy: 0.9476 - val_loss: 0.0173 - val_accuracy: 0.9969 - lr: 0.0000e+00\n",
      "Epoch 73/100\n",
      "214/214 [==============================] - ETA: 0s - loss: 0.1455 - accuracy: 0.9535\n",
      "Epoch 73: val_loss did not improve from 0.01734\n",
      "214/214 [==============================] - 18s 83ms/step - loss: 0.1455 - accuracy: 0.9535 - val_loss: 0.0173 - val_accuracy: 0.9969 - lr: 0.0000e+00\n",
      "Epoch 74/100\n",
      "214/214 [==============================] - ETA: 0s - loss: 0.1536 - accuracy: 0.9501\n",
      "Epoch 74: val_loss did not improve from 0.01734\n",
      "214/214 [==============================] - 18s 83ms/step - loss: 0.1536 - accuracy: 0.9501 - val_loss: 0.0173 - val_accuracy: 0.9969 - lr: 0.0000e+00\n",
      "Epoch 75/100\n",
      "214/214 [==============================] - ETA: 0s - loss: 0.1545 - accuracy: 0.9491\n",
      "Epoch 75: val_loss did not improve from 0.01734\n",
      "214/214 [==============================] - 17s 81ms/step - loss: 0.1545 - accuracy: 0.9491 - val_loss: 0.0173 - val_accuracy: 0.9969 - lr: 0.0000e+00\n",
      "Epoch 76/100\n",
      "214/214 [==============================] - ETA: 0s - loss: 0.1649 - accuracy: 0.9451\n",
      "Epoch 76: val_loss did not improve from 0.01734\n",
      "214/214 [==============================] - 20s 93ms/step - loss: 0.1649 - accuracy: 0.9451 - val_loss: 0.0173 - val_accuracy: 0.9969 - lr: 0.0000e+00\n",
      "Epoch 77/100\n",
      "214/214 [==============================] - ETA: 0s - loss: 0.1578 - accuracy: 0.9475\n",
      "Epoch 77: val_loss did not improve from 0.01734\n",
      "214/214 [==============================] - 19s 89ms/step - loss: 0.1578 - accuracy: 0.9475 - val_loss: 0.0173 - val_accuracy: 0.9969 - lr: 0.0000e+00\n",
      "Epoch 78/100\n",
      "214/214 [==============================] - ETA: 0s - loss: 0.1544 - accuracy: 0.9460\n",
      "Epoch 78: val_loss did not improve from 0.01734\n",
      "214/214 [==============================] - 18s 86ms/step - loss: 0.1544 - accuracy: 0.9460 - val_loss: 0.0173 - val_accuracy: 0.9969 - lr: 0.0000e+00\n",
      "Epoch 79/100\n",
      "214/214 [==============================] - ETA: 0s - loss: 0.1642 - accuracy: 0.9446\n",
      "Epoch 79: val_loss did not improve from 0.01734\n",
      "214/214 [==============================] - 20s 93ms/step - loss: 0.1642 - accuracy: 0.9446 - val_loss: 0.0173 - val_accuracy: 0.9969 - lr: 0.0000e+00\n",
      "Epoch 80/100\n",
      "214/214 [==============================] - ETA: 0s - loss: 0.1470 - accuracy: 0.9516\n",
      "Epoch 80: val_loss did not improve from 0.01734\n",
      "214/214 [==============================] - 21s 100ms/step - loss: 0.1470 - accuracy: 0.9516 - val_loss: 0.0173 - val_accuracy: 0.9969 - lr: 0.0000e+00\n",
      "Epoch 81/100\n",
      "214/214 [==============================] - ETA: 0s - loss: 0.1604 - accuracy: 0.9437\n",
      "Epoch 81: val_loss did not improve from 0.01734\n",
      "214/214 [==============================] - 19s 90ms/step - loss: 0.1604 - accuracy: 0.9437 - val_loss: 0.0173 - val_accuracy: 0.9969 - lr: 0.0000e+00\n",
      "Epoch 82/100\n",
      "213/214 [============================>.] - ETA: 0s - loss: 0.1681 - accuracy: 0.9450\n",
      "Epoch 82: val_loss did not improve from 0.01734\n",
      "214/214 [==============================] - 13s 59ms/step - loss: 0.1678 - accuracy: 0.9451 - val_loss: 0.0173 - val_accuracy: 0.9969 - lr: 0.0000e+00\n",
      "Epoch 83/100\n",
      "214/214 [==============================] - ETA: 0s - loss: 0.1620 - accuracy: 0.9446\n",
      "Epoch 83: val_loss did not improve from 0.01734\n",
      "214/214 [==============================] - 11s 51ms/step - loss: 0.1620 - accuracy: 0.9446 - val_loss: 0.0173 - val_accuracy: 0.9969 - lr: 0.0000e+00\n",
      "Epoch 84/100\n",
      "214/214 [==============================] - ETA: 0s - loss: 0.1644 - accuracy: 0.9434\n",
      "Epoch 84: val_loss did not improve from 0.01734\n",
      "214/214 [==============================] - 16s 76ms/step - loss: 0.1644 - accuracy: 0.9434 - val_loss: 0.0173 - val_accuracy: 0.9969 - lr: 0.0000e+00\n",
      "Epoch 85/100\n",
      "214/214 [==============================] - ETA: 0s - loss: 0.1662 - accuracy: 0.9424\n",
      "Epoch 85: val_loss did not improve from 0.01734\n",
      "214/214 [==============================] - 18s 84ms/step - loss: 0.1662 - accuracy: 0.9424 - val_loss: 0.0173 - val_accuracy: 0.9969 - lr: 0.0000e+00\n",
      "Epoch 86/100\n",
      "214/214 [==============================] - ETA: 0s - loss: 0.1581 - accuracy: 0.9459\n",
      "Epoch 86: val_loss did not improve from 0.01734\n",
      "214/214 [==============================] - 20s 92ms/step - loss: 0.1581 - accuracy: 0.9459 - val_loss: 0.0173 - val_accuracy: 0.9969 - lr: 0.0000e+00\n",
      "Epoch 87/100\n",
      "214/214 [==============================] - ETA: 0s - loss: 0.1725 - accuracy: 0.9403\n",
      "Epoch 87: val_loss did not improve from 0.01734\n",
      "214/214 [==============================] - 18s 84ms/step - loss: 0.1725 - accuracy: 0.9403 - val_loss: 0.0173 - val_accuracy: 0.9969 - lr: 0.0000e+00\n",
      "Epoch 88/100\n",
      "214/214 [==============================] - ETA: 0s - loss: 0.1572 - accuracy: 0.9486\n",
      "Epoch 88: val_loss did not improve from 0.01734\n",
      "214/214 [==============================] - 19s 88ms/step - loss: 0.1572 - accuracy: 0.9486 - val_loss: 0.0173 - val_accuracy: 0.9969 - lr: 0.0000e+00\n",
      "Epoch 89/100\n",
      "214/214 [==============================] - ETA: 0s - loss: 0.1621 - accuracy: 0.9435\n",
      "Epoch 89: val_loss did not improve from 0.01734\n",
      "214/214 [==============================] - 20s 95ms/step - loss: 0.1621 - accuracy: 0.9435 - val_loss: 0.0173 - val_accuracy: 0.9969 - lr: 0.0000e+00\n",
      "Epoch 90/100\n",
      "214/214 [==============================] - ETA: 0s - loss: 0.1519 - accuracy: 0.9454\n",
      "Epoch 90: val_loss did not improve from 0.01734\n",
      "214/214 [==============================] - 20s 93ms/step - loss: 0.1519 - accuracy: 0.9454 - val_loss: 0.0173 - val_accuracy: 0.9969 - lr: 0.0000e+00\n",
      "Epoch 91/100\n",
      "214/214 [==============================] - ETA: 0s - loss: 0.1561 - accuracy: 0.9447\n",
      "Epoch 91: val_loss did not improve from 0.01734\n",
      "214/214 [==============================] - 18s 83ms/step - loss: 0.1561 - accuracy: 0.9447 - val_loss: 0.0173 - val_accuracy: 0.9969 - lr: 0.0000e+00\n",
      "Epoch 92/100\n",
      "214/214 [==============================] - ETA: 0s - loss: 0.1514 - accuracy: 0.9478\n",
      "Epoch 92: val_loss did not improve from 0.01734\n",
      "214/214 [==============================] - 20s 94ms/step - loss: 0.1514 - accuracy: 0.9478 - val_loss: 0.0173 - val_accuracy: 0.9969 - lr: 0.0000e+00\n",
      "Epoch 93/100\n",
      "214/214 [==============================] - ETA: 0s - loss: 0.1605 - accuracy: 0.9463\n",
      "Epoch 93: val_loss did not improve from 0.01734\n",
      "214/214 [==============================] - 17s 80ms/step - loss: 0.1605 - accuracy: 0.9463 - val_loss: 0.0173 - val_accuracy: 0.9969 - lr: 0.0000e+00\n",
      "Epoch 94/100\n",
      "214/214 [==============================] - ETA: 0s - loss: 0.1514 - accuracy: 0.9510\n",
      "Epoch 94: val_loss did not improve from 0.01734\n",
      "214/214 [==============================] - 13s 60ms/step - loss: 0.1514 - accuracy: 0.9510 - val_loss: 0.0173 - val_accuracy: 0.9969 - lr: 0.0000e+00\n",
      "Epoch 95/100\n",
      "213/214 [============================>.] - ETA: 0s - loss: 0.1603 - accuracy: 0.9440\n",
      "Epoch 95: val_loss did not improve from 0.01734\n",
      "214/214 [==============================] - 12s 55ms/step - loss: 0.1600 - accuracy: 0.9441 - val_loss: 0.0173 - val_accuracy: 0.9969 - lr: 0.0000e+00\n",
      "Epoch 96/100\n",
      "213/214 [============================>.] - ETA: 0s - loss: 0.1552 - accuracy: 0.9463\n",
      "Epoch 96: val_loss did not improve from 0.01734\n",
      "214/214 [==============================] - 14s 64ms/step - loss: 0.1548 - accuracy: 0.9465 - val_loss: 0.0173 - val_accuracy: 0.9969 - lr: 0.0000e+00\n",
      "Epoch 97/100\n",
      "214/214 [==============================] - ETA: 0s - loss: 0.1703 - accuracy: 0.9403\n",
      "Epoch 97: val_loss did not improve from 0.01734\n",
      "214/214 [==============================] - 20s 94ms/step - loss: 0.1703 - accuracy: 0.9403 - val_loss: 0.0173 - val_accuracy: 0.9969 - lr: 0.0000e+00\n",
      "Epoch 98/100\n",
      "214/214 [==============================] - ETA: 0s - loss: 0.1619 - accuracy: 0.9448\n",
      "Epoch 98: val_loss did not improve from 0.01734\n",
      "214/214 [==============================] - 19s 88ms/step - loss: 0.1619 - accuracy: 0.9448 - val_loss: 0.0173 - val_accuracy: 0.9969 - lr: 0.0000e+00\n",
      "Epoch 99/100\n",
      "214/214 [==============================] - ETA: 0s - loss: 0.1554 - accuracy: 0.9472\n",
      "Epoch 99: val_loss did not improve from 0.01734\n",
      "214/214 [==============================] - 19s 88ms/step - loss: 0.1554 - accuracy: 0.9472 - val_loss: 0.0173 - val_accuracy: 0.9969 - lr: 0.0000e+00\n",
      "Epoch 100/100\n",
      "214/214 [==============================] - ETA: 0s - loss: 0.1586 - accuracy: 0.9447\n",
      "Epoch 100: val_loss did not improve from 0.01734\n",
      "214/214 [==============================] - 19s 90ms/step - loss: 0.1586 - accuracy: 0.9447 - val_loss: 0.0173 - val_accuracy: 0.9969 - lr: 0.0000e+00\n"
     ]
    }
   ],
   "source": [
    "EPOCHS=100\n",
    "BATCH_SIZE=32\n",
    "\n",
    "# 학습진행\n",
    "result=model.fit(trainx,trainy,validation_data=(testx,testy) ,epochs=EPOCHS, callbacks=[mcCB,lrCB],verbose=1)"
   ]
  },
  {
   "cell_type": "code",
   "execution_count": 19,
   "metadata": {},
   "outputs": [],
   "source": [
    "y_vloss=result.history['val_loss']\n",
    "y_loss=result.history['loss']"
   ]
  },
  {
   "cell_type": "code",
   "execution_count": 20,
   "metadata": {},
   "outputs": [
    {
     "data": {
      "image/png": "[encoded data removed]",
      "text/plain": [
       "<Figure size 640x480 with 1 Axes>"
      ]
     },
     "metadata": {},
     "output_type": "display_data"
    }
   ],
   "source": [
    "x_len=np.arange(len(y_loss))\n",
    "plt.plot(x_len,y_vloss,marker='.',c='red',label='Test_loss')\n",
    "plt.plot(x_len,y_loss,marker='.',c='blue',label='Train_loss')\n",
    "\n",
    "plt.legend()\n",
    "plt.grid()\n",
    "plt.xlabel('EPOCH')\n",
    "plt.ylabel('LOSS')\n",
    "plt.title('Test / Train loss')\n",
    "plt.show()\n"
   ]
  },
  {
   "cell_type": "code",
   "execution_count": 24,
   "metadata": {},
   "outputs": [],
   "source": [
    "y_vaccuracy=result.history['val_accuracy']\n",
    "y_accuracy=result.history['accuracy']"
   ]
  },
  {
   "cell_type": "code",
   "execution_count": 25,
   "metadata": {},
   "outputs": [
    {
     "data": {
      "image/png": "[encoded data removed]",
      "text/plain": [
       "<Figure size 640x480 with 1 Axes>"
      ]
     },
     "metadata": {},
     "output_type": "display_data"
    }
   ],
   "source": [
    "x_len=np.arange(len(y_accuracy))\n",
    "plt.plot(x_len,y_vaccuracy,marker='.',c='red',label='Test_Accuracy')\n",
    "plt.plot(x_len,y_accuracy,marker='.',c='blue',label='Train_Accuracy')\n",
    "\n",
    "plt.legend()\n",
    "plt.grid()\n",
    "plt.xlabel('EPOCH')\n",
    "plt.ylabel('LOSS')\n",
    "plt.title('Test / Train  Accuracy')\n",
    "plt.show()"
   ]
  },
  {
   "cell_type": "code",
   "execution_count": null,
   "metadata": {},
   "outputs": [
    {
     "name": "stdout",
     "output_type": "stream",
     "text": [
      "72/72 [==============================] - 0s 4ms/step - loss: 0.0126 - accuracy: 0.9987\n",
      "\n",
      "Score :  [0.01259173545986414, 0.9986836314201355]\n",
      "\n",
      "Test Loss :  0.01259173545986414\n",
      "\n",
      "Test Accuracy :  0.9986836314201355\n"
     ]
    }
   ],
   "source": [
    "score = model.evaluate(testx, testy)\n",
    "print()\n",
    "print('Score : ',score)\n",
    "print()\n",
    "print(\"Test Loss : \", score[0])\n",
    "print()\n",
    "print(\"Test Accuracy : \", score[1])"
   ]
  }
 ],
 "metadata": {
  "kernelspec": {
   "display_name": "MY_PYTHON2",
   "language": "python",
   "name": "python3"
  },
  "language_info": {
   "codemirror_mode": {
    "name": "ipython",
    "version": 3
   },
   "file_extension": ".py",
   "mimetype": "text/x-python",
   "name": "python",
   "nbconvert_exporter": "python",
   "pygments_lexer": "ipython3",
   "version": "3.8.18"
  },
  "orig_nbformat": 4
 },
 "nbformat": 4,
 "nbformat_minor": 2
}
