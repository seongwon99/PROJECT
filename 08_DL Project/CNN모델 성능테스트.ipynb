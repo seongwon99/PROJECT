{
 "cells": [
  {
   "cell_type": "code",
   "execution_count": 1,
   "metadata": {},
   "outputs": [],
   "source": [
    "import pandas as pd\n",
    "import numpy as np\n",
    "import cv2\n",
    "import matplotlib.pyplot as plt\n",
    "import os, glob\n",
    "import gzip,tarfile\n",
    "import random"
   ]
  },
  {
   "cell_type": "code",
   "execution_count": 3,
   "metadata": {},
   "outputs": [],
   "source": [
    "# 모듈 불러오기\n",
    "from keras.models import load_model\n",
    "final_model=load_model('./model/bestt_test.h5')\n"
   ]
  },
  {
   "cell_type": "code",
   "execution_count": 4,
   "metadata": {},
   "outputs": [],
   "source": [
    "# 폴더 불러오기\n",
    "files=['./test_image/KakaoTalk_20230920_141454739_02.jpg','./test_image/KakaoTalk_20230920_141454739_04.jpg']"
   ]
  },
  {
   "cell_type": "code",
   "execution_count": 5,
   "metadata": {},
   "outputs": [
    {
     "name": "stdout",
     "output_type": "stream",
     "text": [
      "1/1 [==============================] - 0s 250ms/step\n",
      "1/1 [==============================] - 0s 25ms/step\n"
     ]
    }
   ],
   "source": [
    "\n",
    "def model_predict(image_list, resize_, model):\n",
    "    predict_list=[]\n",
    "    for img_path in image_list:\n",
    "        \n",
    "        img = cv2.imread(img_path)\n",
    "        img = cv2.cvtColor(img, cv2.COLOR_BGR2RGB)  # 이미지를 BGR에서 RGB로 변환\n",
    "        img = cv2.resize(img, resize_)  # 이미지 크기 조정\n",
    "\n",
    "        # 이미지를 모델이 예상하는 형식으로 전처리\n",
    "        img = img / 255.0  # 이미지를 0~1 범위로 스케일링\n",
    "        img = np.expand_dims(img, axis=0)  # 배치 차원 추가 (1개의 이미지를 처리하기 위해)\n",
    "\n",
    "        predictions = model.predict(img)  # 예측\n",
    "\n",
    "        label_class = {\n",
    "        0: 'ㄱ', 1: 'ㄴ', 2: 'ㄷ', 3: 'ㄹ', 4: 'ㅁ', 5: 'ㅂ', 6: 'ㅅ', 7: 'ㅇ', 8: 'ㅈ', 9: 'ㅊ',\n",
    "        10: 'ㅋ', 11: 'ㅌ', 12: 'ㅍ', 13: 'ㅎ', 14: 'ㅏ', 15: 'ㅑ', 16: 'ㅓ', 17: 'ㅕ', 18: 'ㅗ',\n",
    "        19: 'ㅛ', 20: 'ㅜ', 21: 'ㅠ', 22: 'ㅡ', 23: 'ㅣ', 24: 'ㅐ', 25: 'ㅒ', 26: 'ㅔ', 27: 'ㅖ',\n",
    "        28: 'ㅢ', 29: 'ㅚ', 30: 'ㅟ'\n",
    "        }\n",
    "        predicted_class = np.argmax(predictions)\n",
    "        predicted_label = label_class[predicted_class]\n",
    "        predict_list.append(predicted_label)\n",
    "    return predict_list\n",
    "\n",
    "# 파일 리스트(files)를 사용하여 모델 예측\n",
    "\n",
    "predict_list=model_predict(files, (28,28), final_model)"
   ]
  },
  {
   "cell_type": "code",
   "execution_count": 6,
   "metadata": {},
   "outputs": [
    {
     "name": "stdout",
     "output_type": "stream",
     "text": [
      "['ㅇ', 'ㅅ']\n"
     ]
    }
   ],
   "source": [
    "print(predict_list)"
   ]
  }
 ],
 "metadata": {
  "kernelspec": {
   "display_name": "tensor",
   "language": "python",
   "name": "python3"
  },
  "language_info": {
   "codemirror_mode": {
    "name": "ipython",
    "version": 3
   },
   "file_extension": ".py",
   "mimetype": "text/x-python",
   "name": "python",
   "nbconvert_exporter": "python",
   "pygments_lexer": "ipython3",
   "version": "3.8.18"
  },
  "orig_nbformat": 4
 },
 "nbformat": 4,
 "nbformat_minor": 2
}
