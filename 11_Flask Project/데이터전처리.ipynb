{
 "cells": [
  {
   "cell_type": "code",
   "execution_count": 2,
   "metadata": {},
   "outputs": [],
   "source": [
    "import pandas as pd"
   ]
  },
  {
   "cell_type": "markdown",
   "metadata": {},
   "source": [
    "### 데이터 로딩"
   ]
  },
  {
   "cell_type": "code",
   "execution_count": 3,
   "metadata": {},
   "outputs": [],
   "source": [
    "DF=pd.read_excel('./data/식품성분표(10개정판).xlsx',sheet_name=0)"
   ]
  },
  {
   "cell_type": "code",
   "execution_count": 4,
   "metadata": {},
   "outputs": [
    {
     "data": {
      "text/plain": [
       "array([nan, \"농진청('16)\", \"농진청('20)\", \"농진청('11)\", \"농진청('06)\", \"농진청('19)\",\n",
       "       \"농진청('14)\", \"JAPAN('20)\", '대푯값', \"농진청('15)\", \"농진청('03)\",\n",
       "       \"농진청('99)\", \"농진청('93)\", \"농진청('97)\", \"농진청('09)\", \"농진청('94)\",\n",
       "       \"농진청('02)\", \"농진청('10)\", \"식약('96)\", \"농진청('07)\", \"식약('11)\",\n",
       "       \"농진청('18)\", \"농진청('01)\", \"농진청('13)\", \"농진청('05)\", \"농진청('00)\",\n",
       "       \"USDA('18)\", \"농진청('84)\", \"농진청('96)\", \"농진청('92)\", \"농진청('17)\",\n",
       "       \"국('79)\", \"농진청('98)\", \"농진청('08)\", \"농진청('95)\", \"농진청('85)\", \"국('77)\",\n",
       "       \"농진청('91)\", \"보전('74)\", \"국('80)\", \"농진청('87)\", \"영양('95)\", \"농진청('04)\",\n",
       "       \"농진청('89)\", \"농진청('88)\", \"국('88)\", \"국('86)\", \"국('81)\", \"농진청('83)\",\n",
       "       \"농진청('86)\", \"국('85)\", \"국('87)\", \"농진청('90)\", \"수('89)\", \"수('82)\",\n",
       "       \"축산연('02)\", \"축과원('11)\", \"수('09)\", \"국('83)\", \"수('18)\", \"수('16)\",\n",
       "       \"수('95)\", \"수('08)\", \"수('86)\", \"국('78)\", \"국영('98)\"], dtype=object)"
      ]
     },
     "execution_count": 4,
     "metadata": {},
     "output_type": "execute_result"
    }
   ],
   "source": [
    "DF['출처'].unique()"
   ]
  },
  {
   "cell_type": "code",
   "execution_count": 5,
   "metadata": {},
   "outputs": [
    {
     "data": {
      "text/plain": [
       "array([nan, '곡류 및 그 제품', '감자류 및 전분류', '당류', '두류', '견과류 및 종실류', '채소류',\n",
       "       '버섯류', '과일류', '육류 및 그 제품', '난류', '어패류 및 그 제품', '해조류', '우유 및 그 제품',\n",
       "       '유지류', '차류', '음료류', '주류', '조미료류', '조리가공식품류', '기타'], dtype=object)"
      ]
     },
     "execution_count": 5,
     "metadata": {},
     "output_type": "execute_result"
    }
   ],
   "source": [
    "DF['식품군'].unique()"
   ]
  },
  {
   "cell_type": "markdown",
   "metadata": {},
   "source": [
    "# - - - - - - - - - - - - - - - - - - - -\n",
    "### 필요한 컬럼 가져오기\n",
    "# - - - - - - - - - - - - - - - - - - - -"
   ]
  },
  {
   "cell_type": "code",
   "execution_count": 6,
   "metadata": {},
   "outputs": [],
   "source": [
    "condition = ~DF['출처'].isin([\"JAPAN('20)\", \"USDA('18)\"])\n",
    "DF = DF[condition]"
   ]
  },
  {
   "cell_type": "code",
   "execution_count": 7,
   "metadata": {},
   "outputs": [],
   "source": [
    "DF=DF.iloc[1:]"
   ]
  },
  {
   "cell_type": "code",
   "execution_count": 8,
   "metadata": {},
   "outputs": [],
   "source": [
    "DF=DF[['식품명','에너지','수분','단백질','지방 ','회분','탄수화물','당류','식품군']]"
   ]
  },
  {
   "cell_type": "code",
   "execution_count": 9,
   "metadata": {},
   "outputs": [
    {
     "data": {
      "text/html": [
       "<div>\n",
       "<style scoped>\n",
       "    .dataframe tbody tr th:only-of-type {\n",
       "        vertical-align: middle;\n",
       "    }\n",
       "\n",
       "    .dataframe tbody tr th {\n",
       "        vertical-align: top;\n",
       "    }\n",
       "\n",
       "    .dataframe thead th {\n",
       "        text-align: right;\n",
       "    }\n",
       "</style>\n",
       "<table border=\"1\" class=\"dataframe\">\n",
       "  <thead>\n",
       "    <tr style=\"text-align: right;\">\n",
       "      <th></th>\n",
       "      <th>식품명</th>\n",
       "      <th>에너지</th>\n",
       "      <th>수분</th>\n",
       "      <th>단백질</th>\n",
       "      <th>지방</th>\n",
       "      <th>회분</th>\n",
       "      <th>탄수화물</th>\n",
       "      <th>당류</th>\n",
       "      <th>식품군</th>\n",
       "    </tr>\n",
       "  </thead>\n",
       "  <tbody>\n",
       "    <tr>\n",
       "      <th>1</th>\n",
       "      <td>귀리, 겉귀리, 도정, 생것</td>\n",
       "      <td>380</td>\n",
       "      <td>11.5</td>\n",
       "      <td>11.4</td>\n",
       "      <td>7.35</td>\n",
       "      <td>2</td>\n",
       "      <td>67.71</td>\n",
       "      <td>0.32</td>\n",
       "      <td>곡류 및 그 제품</td>\n",
       "    </tr>\n",
       "    <tr>\n",
       "      <th>2</th>\n",
       "      <td>귀리, 쌀귀리, 도정, 생것</td>\n",
       "      <td>388</td>\n",
       "      <td>11.6</td>\n",
       "      <td>11.14</td>\n",
       "      <td>8.9</td>\n",
       "      <td>1.7</td>\n",
       "      <td>66.66</td>\n",
       "      <td>0.91</td>\n",
       "      <td>곡류 및 그 제품</td>\n",
       "    </tr>\n",
       "    <tr>\n",
       "      <th>3</th>\n",
       "      <td>귀리, 쌀귀리, 대양, 도정, 생것</td>\n",
       "      <td>386</td>\n",
       "      <td>11.8</td>\n",
       "      <td>11.51</td>\n",
       "      <td>8.78</td>\n",
       "      <td>1.81</td>\n",
       "      <td>66.1</td>\n",
       "      <td>0.91</td>\n",
       "      <td>곡류 및 그 제품</td>\n",
       "    </tr>\n",
       "    <tr>\n",
       "      <th>4</th>\n",
       "      <td>귀리, 쌀귀리, 조양, 도정, 생것</td>\n",
       "      <td>390</td>\n",
       "      <td>11.4</td>\n",
       "      <td>10.78</td>\n",
       "      <td>9.01</td>\n",
       "      <td>1.6</td>\n",
       "      <td>67.23</td>\n",
       "      <td>0.91</td>\n",
       "      <td>곡류 및 그 제품</td>\n",
       "    </tr>\n",
       "    <tr>\n",
       "      <th>5</th>\n",
       "      <td>귀리, 쌀귀리, 도정, 밥</td>\n",
       "      <td>218</td>\n",
       "      <td>50.7</td>\n",
       "      <td>6.51</td>\n",
       "      <td>5.36</td>\n",
       "      <td>0.95</td>\n",
       "      <td>36.54</td>\n",
       "      <td>0.42</td>\n",
       "      <td>곡류 및 그 제품</td>\n",
       "    </tr>\n",
       "    <tr>\n",
       "      <th>...</th>\n",
       "      <td>...</td>\n",
       "      <td>...</td>\n",
       "      <td>...</td>\n",
       "      <td>...</td>\n",
       "      <td>...</td>\n",
       "      <td>...</td>\n",
       "      <td>...</td>\n",
       "      <td>...</td>\n",
       "      <td>...</td>\n",
       "    </tr>\n",
       "    <tr>\n",
       "      <th>3264</th>\n",
       "      <td>장수풍뎅이, 유충, 말린것</td>\n",
       "      <td>502</td>\n",
       "      <td>6.1</td>\n",
       "      <td>44.62</td>\n",
       "      <td>27.21</td>\n",
       "      <td>2.55</td>\n",
       "      <td>19.55</td>\n",
       "      <td>0</td>\n",
       "      <td>기타</td>\n",
       "    </tr>\n",
       "    <tr>\n",
       "      <th>3265</th>\n",
       "      <td>치자꽃, 생것</td>\n",
       "      <td>66</td>\n",
       "      <td>82.8</td>\n",
       "      <td>1.3</td>\n",
       "      <td>0.1</td>\n",
       "      <td>0.9</td>\n",
       "      <td>14.9</td>\n",
       "      <td>-</td>\n",
       "      <td>기타</td>\n",
       "    </tr>\n",
       "    <tr>\n",
       "      <th>3268</th>\n",
       "      <td>프로폴리스</td>\n",
       "      <td>642</td>\n",
       "      <td>2.1</td>\n",
       "      <td>0.5</td>\n",
       "      <td>50.3</td>\n",
       "      <td>0.2</td>\n",
       "      <td>46.9</td>\n",
       "      <td>-</td>\n",
       "      <td>기타</td>\n",
       "    </tr>\n",
       "    <tr>\n",
       "      <th>3269</th>\n",
       "      <td>흰점박이 꽃무지, 유충, 생것</td>\n",
       "      <td>122</td>\n",
       "      <td>74.7</td>\n",
       "      <td>15.78</td>\n",
       "      <td>5.2</td>\n",
       "      <td>1.42</td>\n",
       "      <td>2.9</td>\n",
       "      <td>0</td>\n",
       "      <td>기타</td>\n",
       "    </tr>\n",
       "    <tr>\n",
       "      <th>3270</th>\n",
       "      <td>흰점박이 꽃무지, 유충, 말린것</td>\n",
       "      <td>463</td>\n",
       "      <td>1.6</td>\n",
       "      <td>54.13</td>\n",
       "      <td>18.52</td>\n",
       "      <td>5.76</td>\n",
       "      <td>19.99</td>\n",
       "      <td>0.18</td>\n",
       "      <td>기타</td>\n",
       "    </tr>\n",
       "  </tbody>\n",
       "</table>\n",
       "<p>2765 rows × 9 columns</p>\n",
       "</div>"
      ],
      "text/plain": [
       "                      식품명  에너지    수분    단백질    지방     회분   탄수화물    당류  \\\n",
       "1         귀리, 겉귀리, 도정, 생것  380  11.5   11.4   7.35     2  67.71  0.32   \n",
       "2         귀리, 쌀귀리, 도정, 생것  388  11.6  11.14    8.9   1.7  66.66  0.91   \n",
       "3     귀리, 쌀귀리, 대양, 도정, 생것  386  11.8  11.51   8.78  1.81   66.1  0.91   \n",
       "4     귀리, 쌀귀리, 조양, 도정, 생것  390  11.4  10.78   9.01   1.6  67.23  0.91   \n",
       "5          귀리, 쌀귀리, 도정, 밥  218  50.7   6.51   5.36  0.95  36.54  0.42   \n",
       "...                   ...  ...   ...    ...    ...   ...    ...   ...   \n",
       "3264       장수풍뎅이, 유충, 말린것  502   6.1  44.62  27.21  2.55  19.55     0   \n",
       "3265              치자꽃, 생것   66  82.8    1.3    0.1   0.9   14.9     -   \n",
       "3268                프로폴리스  642   2.1    0.5   50.3   0.2   46.9     -   \n",
       "3269     흰점박이 꽃무지, 유충, 생것  122  74.7  15.78    5.2  1.42    2.9     0   \n",
       "3270    흰점박이 꽃무지, 유충, 말린것  463   1.6  54.13  18.52  5.76  19.99  0.18   \n",
       "\n",
       "            식품군  \n",
       "1     곡류 및 그 제품  \n",
       "2     곡류 및 그 제품  \n",
       "3     곡류 및 그 제품  \n",
       "4     곡류 및 그 제품  \n",
       "5     곡류 및 그 제품  \n",
       "...         ...  \n",
       "3264         기타  \n",
       "3265         기타  \n",
       "3268         기타  \n",
       "3269         기타  \n",
       "3270         기타  \n",
       "\n",
       "[2765 rows x 9 columns]"
      ]
     },
     "execution_count": 9,
     "metadata": {},
     "output_type": "execute_result"
    }
   ],
   "source": [
    "DF"
   ]
  },
  {
   "cell_type": "code",
   "execution_count": 10,
   "metadata": {},
   "outputs": [],
   "source": [
    "# DF.to_excel('./data/식품성분표_수정.xlsx')"
   ]
  },
  {
   "cell_type": "markdown",
   "metadata": {},
   "source": [
    "# - - - - - - - - - - - - - - - - - - - -\n",
    "### 식품군 분류\n",
    "# - - - - - - - - - - - - - - - - - - - -"
   ]
  },
  {
   "cell_type": "markdown",
   "metadata": {},
   "source": [
    "### 식품군 분류: 곡류군, 어육류군, 채소군, 지방군, 우유군, 과일군\n",
    "\n",
    "### 출처 : USDA, JAPAN 제외\n",
    "\n",
    "- 곡류 및 그 제품(곡류군)\n",
    "    * 과자, 빵, 케이크 제외\n",
    "    * 찹쌀떡, 찹쌀빵, 호밀빵 등등 제외\n",
    "- 감자류 및 전분류(곡류군, 채소군)\n",
    "    * 당면 : 곡류군\n",
    "    * 곤약 : 채소군\n",
    "    * 전분 : 곡류군\n",
    "    * 토란 : 채소군\n",
    "- 당류(X)\n",
    "    * 당류는 제외\n",
    "- 두류(곡류군)\n",
    "- 견과류 및 종실류(곡류군, 지방군)\n",
    "    * 탄수화물 지방비율로 곡류군, 지방군 나누기\n",
    "- 채소류(채소군)\n",
    "- 버섯류(채소군)\n",
    "- 과일류(과일군)\n",
    "    * 과일 품종은 구분하지 않기\n",
    "- 육류 및 그 제품(어육류군)\n",
    "    * 열량 100kcal 이하 삭제\n",
    "    * 소고기, 닭고기, 돼지고기, 오리고기, 햄, 소시지 사용\n",
    "- 난류(어육류군)\n",
    "- 어패류 및 그 제품(어육류군)\n",
    "- 해조류(채소군)\n",
    "- 우유 및 그 제품(우유군)\n",
    "    * 분유, 요구르트(액상), 우유(가공유X)\n",
    "- 유지류(지방군)\n",
    "    * 지방군\n",
    "- 차류(X)\n",
    "    * X\n",
    "- 음료류(X)\n",
    "    * X\n",
    "- 주류(X)\n",
    "    * X\n",
    "- 조미료류(X)\n",
    "    * X\n",
    "- 조리가공식품류(X)\n",
    "    * X\n",
    "- 기타(X)\n",
    "    * X"
   ]
  },
  {
   "cell_type": "code",
   "execution_count": 11,
   "metadata": {},
   "outputs": [],
   "source": [
    "mask = ~DF['식품군'].isin([\"당류\",\"차류\",\"음료류\",\"주류\",\"조미료류\",\"조리가공식품류\",\"기타\"])\n",
    "DF=DF[mask]\n",
    "DF=DF.reset_index(drop=True)"
   ]
  },
  {
   "cell_type": "markdown",
   "metadata": {},
   "source": [
    "- 식품군 분류 : 큰 범위의 식품군을 잡고 세부사항은 이후 조정"
   ]
  },
  {
   "cell_type": "code",
   "execution_count": 12,
   "metadata": {},
   "outputs": [],
   "source": [
    "bin=[]\n",
    "\n",
    "for i in DF['식품군']:\n",
    "    if i in ['곡류 및 그 제품', '두류','감자류 및 전분류','견과류 및 종실류']:\n",
    "        bin.append('곡류군')\n",
    "    elif i in ['채소류','버섯류','해조류']:\n",
    "        bin.append('채소군')\n",
    "    elif i in ['육류 및 그 제품', '난류', '어패류 및 그 제품']:\n",
    "        bin.append('어육류군')\n",
    "    elif i in ['과일류']:\n",
    "        bin.append('과일군')\n",
    "    elif i in ['우유 및 그 제품']:\n",
    "        bin.append('우유군')\n",
    "    else:\n",
    "        bin.append('지방군')\n",
    "\n",
    "DF['식품군2']=bin"
   ]
  },
  {
   "cell_type": "markdown",
   "metadata": {},
   "source": [
    "- 제외할 식품 삭제 및 식품군2 값 변경"
   ]
  },
  {
   "cell_type": "code",
   "execution_count": 13,
   "metadata": {},
   "outputs": [],
   "source": [
    "ex_index=[]\n",
    "\n",
    "for idx, i in enumerate(DF['식품명']):\n",
    "    i=i.split(',')\n",
    "\n",
    "    if i[0] in ['곤약(구약나물)','토란']:\n",
    "        DF.at[idx,'식품군2']='채소군'\n",
    "    \n",
    "    if i[0] in ['과자','빵','케이크','찹쌀떡','찹쌀빵','호밀빵','크림','커피크리머']:\n",
    "        ex_index.append(idx)\n",
    "\n",
    "    \n",
    "\n",
    "DF=DF.drop(ex_index)\n",
    "DF=DF.reset_index(drop=True)"
   ]
  },
  {
   "cell_type": "code",
   "execution_count": 14,
   "metadata": {},
   "outputs": [],
   "source": [
    "for i in DF[DF['식품군']=='견과류 및 종실류'].index:\n",
    "    fat=float(DF.iloc[i][4])\n",
    "    carb=float(DF.iloc[i][6])\n",
    "\n",
    "    if fat>carb:\n",
    "        DF.at[i,'식품군2']='지방군'"
   ]
  },
  {
   "cell_type": "code",
   "execution_count": 15,
   "metadata": {},
   "outputs": [],
   "source": [
    "ex_index=[]\n",
    "\n",
    "for i in DF[DF['식품군']=='육류 및 그 제품'].index:\n",
    "    food_name = DF.at[i, '식품명'].split(',')[0]\n",
    "    kcal=int(DF.at[i,'에너지'])\n",
    "\n",
    "    if food_name not in ['소고기','돼지고기','닭고기','오리고기','햄','소시지']:\n",
    "        ex_index.append(i)\n",
    "    \n",
    "    if kcal<=100:\n",
    "        ex_index.append(i)\n",
    "\n",
    "\n",
    "DF=DF.drop(ex_index)\n",
    "DF=DF.reset_index(drop=True)"
   ]
  },
  {
   "cell_type": "markdown",
   "metadata": {},
   "source": [
    "- 빈칸 값 변경"
   ]
  },
  {
   "cell_type": "code",
   "execution_count": 16,
   "metadata": {},
   "outputs": [],
   "source": [
    "DF.update(DF[DF.columns[1:8]].applymap(lambda x : 0 if not isinstance(x, (int, float)) and x=='-' else x))"
   ]
  },
  {
   "cell_type": "code",
   "execution_count": 17,
   "metadata": {},
   "outputs": [
    {
     "name": "stdout",
     "output_type": "stream",
     "text": [
      "<class 'pandas.core.frame.DataFrame'>\n",
      "RangeIndex: 2331 entries, 0 to 2330\n",
      "Data columns (total 10 columns):\n",
      " #   Column  Non-Null Count  Dtype \n",
      "---  ------  --------------  ----- \n",
      " 0   식품명     2331 non-null   object\n",
      " 1   에너지     2331 non-null   object\n",
      " 2   수분      2331 non-null   object\n",
      " 3   단백질     2331 non-null   object\n",
      " 4   지방      2331 non-null   object\n",
      " 5   회분      2331 non-null   object\n",
      " 6   탄수화물    2331 non-null   object\n",
      " 7   당류      2331 non-null   object\n",
      " 8   식품군     2331 non-null   object\n",
      " 9   식품군2    2331 non-null   object\n",
      "dtypes: object(10)\n",
      "memory usage: 182.2+ KB\n"
     ]
    }
   ],
   "source": [
    "DF.info()"
   ]
  },
  {
   "cell_type": "markdown",
   "metadata": {},
   "source": [
    "# - - - - - - - - - - - - - - - - - - - -\n",
    "### [3] 분류모델 만들기\n",
    "# - - - - - - - - - - - - - - - - - - - -"
   ]
  },
  {
   "cell_type": "code",
   "execution_count": 18,
   "metadata": {},
   "outputs": [],
   "source": [
    "from sklearn.model_selection import train_test_split\n",
    "from sklearn.preprocessing import StandardScaler\n",
    "from sklearn.preprocessing import LabelEncoder\n",
    "from imblearn.over_sampling import ADASYN\n",
    "\n",
    "from sklearn.neighbors import KNeighborsClassifier                                                                                                                                                                                                                                                                                                                                                                                                                                                                                                                                                                                                                                                                                                                                                                                                                                                                                                                                                                                                                                                                                                                                                                                                                                                                                               \n",
    "from sklearn.linear_model import LogisticRegression\n",
    "from sklearn.linear_model import SGDClassifier\n",
    "from sklearn.tree import DecisionTreeClassifier\n",
    "from sklearn.svm import SVC\n",
    "from sklearn.ensemble import RandomForestClassifier\n",
    "from xgboost import XGBClassifier\n",
    "\n",
    "\n",
    "from sklearn.model_selection import GridSearchCV, RandomizedSearchCV\n",
    "\n",
    "\n",
    "from sklearn.metrics import classification_report, confusion_matrix, accuracy_score, precision_score, recall_score, f1_score, roc_auc_score\n",
    "\n",
    "import joblib"
   ]
  },
  {
   "cell_type": "code",
   "execution_count": 19,
   "metadata": {},
   "outputs": [
    {
     "name": "stdout",
     "output_type": "stream",
     "text": [
      "[0 0 0 ... 4 4 4]\n"
     ]
    }
   ],
   "source": [
    "featureDF=DF[DF.columns[[2,3,4,6]]]\n",
    "targetDF=DF[DF.columns[-1]]\n",
    "\n",
    "encoder = LabelEncoder()\n",
    "encoded_target = encoder.fit_transform(targetDF)\n",
    "\n",
    "print(encoded_target)"
   ]
  },
  {
   "cell_type": "code",
   "execution_count": 20,
   "metadata": {},
   "outputs": [],
   "source": [
    "# 곡류군 0\n",
    "# 과일군 1\n",
    "# 어육류군 2\n",
    "# 우유군3\n",
    "# 지방군 4\n",
    "# 채소군 5"
   ]
  },
  {
   "cell_type": "code",
   "execution_count": 21,
   "metadata": {},
   "outputs": [],
   "source": [
    "trainx, testx, trainy, testy=train_test_split(featureDF,encoded_target,test_size=0.2,random_state=20,stratify=targetDF)"
   ]
  },
  {
   "cell_type": "code",
   "execution_count": 22,
   "metadata": {},
   "outputs": [],
   "source": [
    "# 업샘플링\n",
    "\n",
    "adasyn = ADASYN(random_state=20)\n",
    "trainx, trainy = adasyn.fit_resample(trainx, trainy)"
   ]
  },
  {
   "cell_type": "code",
   "execution_count": 23,
   "metadata": {},
   "outputs": [],
   "source": [
    "scale=StandardScaler()\n",
    "\n",
    "scale.fit(trainx)\n",
    "\n",
    "test_X_scaled=scale.transform(testx)\n",
    "train_X_scaled=scale.transform(trainx)"
   ]
  },
  {
   "cell_type": "code",
   "execution_count": 24,
   "metadata": {},
   "outputs": [
    {
     "name": "stdout",
     "output_type": "stream",
     "text": [
      "[KNeighborsClassifier]\n",
      " 훈련 점수 : 0.9440, 테스트 점수 : 0.8801\n",
      "\n",
      "[LogisticRegression]\n",
      " 훈련 점수 : 0.7452, 테스트 점수 : 0.8137\n",
      "\n",
      "[SGDClassifier]\n",
      " 훈련 점수 : 0.7192, 테스트 점수 : 0.7794\n",
      "\n"
     ]
    },
    {
     "name": "stderr",
     "output_type": "stream",
     "text": [
      "c:\\Users\\KDP-48\\anaconda3\\envs\\MY_PYTHON2_\\lib\\site-packages\\sklearn\\linear_model\\_logistic.py:460: ConvergenceWarning: lbfgs failed to converge (status=1):\n",
      "STOP: TOTAL NO. of ITERATIONS REACHED LIMIT.\n",
      "\n",
      "Increase the number of iterations (max_iter) or scale the data as shown in:\n",
      "    https://scikit-learn.org/stable/modules/preprocessing.html\n",
      "Please also refer to the documentation for alternative solver options:\n",
      "    https://scikit-learn.org/stable/modules/linear_model.html#logistic-regression\n",
      "  n_iter_i = _check_optimize_result(\n"
     ]
    },
    {
     "name": "stdout",
     "output_type": "stream",
     "text": [
      "[DecisionTreeClassifier]\n",
      " 훈련 점수 : 1.0000, 테스트 점수 : 0.8501\n",
      "\n",
      "[SVC]\n",
      " 훈련 점수 : 0.8125, 테스트 점수 : 0.8737\n",
      "\n",
      "[RandomForestClassifier]\n",
      " 훈련 점수 : 1.0000, 테스트 점수 : 0.8737\n",
      "\n",
      "[XGBClassifier]\n",
      " 훈련 점수 : 0.9998, 테스트 점수 : 0.8715\n",
      "\n"
     ]
    }
   ],
   "source": [
    "trainModels=[KNeighborsClassifier, LogisticRegression, SGDClassifier, DecisionTreeClassifier, SVC, RandomForestClassifier,XGBClassifier]\n",
    "\n",
    "models_={}\n",
    "for model in trainModels:\n",
    "    model_=model()\n",
    "    model_.fit(train_X_scaled,trainy)\n",
    "\n",
    "    train_score=model_.score(train_X_scaled,trainy)\n",
    "    test_score=model_.score(test_X_scaled,testy)\n",
    "\n",
    "    models_[model]=[train_score, test_score]\n",
    "\n",
    "    # # __name__ 매직속성 => 객체 클래스명 str타입으로 가져오기\n",
    "    models_[model.__name__]=[train_score,test_score,round(train_score-test_score,4)]\n",
    "\n",
    "\n",
    "    print(f'[{model.__name__}]\\n 훈련 점수 : {train_score:.4f}, 테스트 점수 : {test_score:.4f}\\n')\n"
   ]
  },
  {
   "cell_type": "code",
   "execution_count": 25,
   "metadata": {},
   "outputs": [],
   "source": [
    "trainModels=[KNeighborsClassifier(), LogisticRegression(), SGDClassifier(), SVC()]\n",
    "\n",
    "params={'KNeighborsClassifier':{\"n_neighbors\":[4,5,6,7],\"weights\":['uniform','distance'],\"algorithm\":['auto','brute']},\n",
    "        'LogisticRegression':{\"penalty\":[\"l1\",\"l2\",\"elasticnet\"], \"C\":[0.001,0.01, 0.1, 1.0, 10.0,100],\"max_iter\":[100,500,1000]},\n",
    "        'SGDClassifier':{\"penalty\":[\"l1\",\"l2\",\"elasticnet\"],\"alpha\":[0.001,0.01,0.1,1,10]},\n",
    "        'SVC':{\"C\":[0.001,0.01, 0.1, 1.0, 10.0,100],\"gamma\":['auto','scale',100,10,1,0.1,0.01]}}"
   ]
  },
  {
   "cell_type": "code",
   "execution_count": 26,
   "metadata": {},
   "outputs": [
    {
     "name": "stderr",
     "output_type": "stream",
     "text": [
      "c:\\Users\\KDP-48\\anaconda3\\envs\\MY_PYTHON2_\\lib\\site-packages\\sklearn\\linear_model\\_logistic.py:460: ConvergenceWarning: lbfgs failed to converge (status=1):\n",
      "STOP: TOTAL NO. of ITERATIONS REACHED LIMIT.\n",
      "\n",
      "Increase the number of iterations (max_iter) or scale the data as shown in:\n",
      "    https://scikit-learn.org/stable/modules/preprocessing.html\n",
      "Please also refer to the documentation for alternative solver options:\n",
      "    https://scikit-learn.org/stable/modules/linear_model.html#logistic-regression\n",
      "  n_iter_i = _check_optimize_result(\n",
      "c:\\Users\\KDP-48\\anaconda3\\envs\\MY_PYTHON2_\\lib\\site-packages\\sklearn\\linear_model\\_logistic.py:460: ConvergenceWarning: lbfgs failed to converge (status=1):\n",
      "STOP: TOTAL NO. of ITERATIONS REACHED LIMIT.\n",
      "\n",
      "Increase the number of iterations (max_iter) or scale the data as shown in:\n",
      "    https://scikit-learn.org/stable/modules/preprocessing.html\n",
      "Please also refer to the documentation for alternative solver options:\n",
      "    https://scikit-learn.org/stable/modules/linear_model.html#logistic-regression\n",
      "  n_iter_i = _check_optimize_result(\n",
      "c:\\Users\\KDP-48\\anaconda3\\envs\\MY_PYTHON2_\\lib\\site-packages\\sklearn\\linear_model\\_logistic.py:460: ConvergenceWarning: lbfgs failed to converge (status=1):\n",
      "STOP: TOTAL NO. of ITERATIONS REACHED LIMIT.\n",
      "\n",
      "Increase the number of iterations (max_iter) or scale the data as shown in:\n",
      "    https://scikit-learn.org/stable/modules/preprocessing.html\n",
      "Please also refer to the documentation for alternative solver options:\n",
      "    https://scikit-learn.org/stable/modules/linear_model.html#logistic-regression\n",
      "  n_iter_i = _check_optimize_result(\n",
      "c:\\Users\\KDP-48\\anaconda3\\envs\\MY_PYTHON2_\\lib\\site-packages\\sklearn\\linear_model\\_logistic.py:460: ConvergenceWarning: lbfgs failed to converge (status=1):\n",
      "STOP: TOTAL NO. of ITERATIONS REACHED LIMIT.\n",
      "\n",
      "Increase the number of iterations (max_iter) or scale the data as shown in:\n",
      "    https://scikit-learn.org/stable/modules/preprocessing.html\n",
      "Please also refer to the documentation for alternative solver options:\n",
      "    https://scikit-learn.org/stable/modules/linear_model.html#logistic-regression\n",
      "  n_iter_i = _check_optimize_result(\n",
      "c:\\Users\\KDP-48\\anaconda3\\envs\\MY_PYTHON2_\\lib\\site-packages\\sklearn\\linear_model\\_logistic.py:460: ConvergenceWarning: lbfgs failed to converge (status=1):\n",
      "STOP: TOTAL NO. of ITERATIONS REACHED LIMIT.\n",
      "\n",
      "Increase the number of iterations (max_iter) or scale the data as shown in:\n",
      "    https://scikit-learn.org/stable/modules/preprocessing.html\n",
      "Please also refer to the documentation for alternative solver options:\n",
      "    https://scikit-learn.org/stable/modules/linear_model.html#logistic-regression\n",
      "  n_iter_i = _check_optimize_result(\n",
      "c:\\Users\\KDP-48\\anaconda3\\envs\\MY_PYTHON2_\\lib\\site-packages\\sklearn\\linear_model\\_logistic.py:460: ConvergenceWarning: lbfgs failed to converge (status=1):\n",
      "STOP: TOTAL NO. of ITERATIONS REACHED LIMIT.\n",
      "\n",
      "Increase the number of iterations (max_iter) or scale the data as shown in:\n",
      "    https://scikit-learn.org/stable/modules/preprocessing.html\n",
      "Please also refer to the documentation for alternative solver options:\n",
      "    https://scikit-learn.org/stable/modules/linear_model.html#logistic-regression\n",
      "  n_iter_i = _check_optimize_result(\n",
      "c:\\Users\\KDP-48\\anaconda3\\envs\\MY_PYTHON2_\\lib\\site-packages\\sklearn\\linear_model\\_logistic.py:460: ConvergenceWarning: lbfgs failed to converge (status=1):\n",
      "STOP: TOTAL NO. of ITERATIONS REACHED LIMIT.\n",
      "\n",
      "Increase the number of iterations (max_iter) or scale the data as shown in:\n",
      "    https://scikit-learn.org/stable/modules/preprocessing.html\n",
      "Please also refer to the documentation for alternative solver options:\n",
      "    https://scikit-learn.org/stable/modules/linear_model.html#logistic-regression\n",
      "  n_iter_i = _check_optimize_result(\n",
      "c:\\Users\\KDP-48\\anaconda3\\envs\\MY_PYTHON2_\\lib\\site-packages\\sklearn\\linear_model\\_logistic.py:460: ConvergenceWarning: lbfgs failed to converge (status=1):\n",
      "STOP: TOTAL NO. of ITERATIONS REACHED LIMIT.\n",
      "\n",
      "Increase the number of iterations (max_iter) or scale the data as shown in:\n",
      "    https://scikit-learn.org/stable/modules/preprocessing.html\n",
      "Please also refer to the documentation for alternative solver options:\n",
      "    https://scikit-learn.org/stable/modules/linear_model.html#logistic-regression\n",
      "  n_iter_i = _check_optimize_result(\n",
      "c:\\Users\\KDP-48\\anaconda3\\envs\\MY_PYTHON2_\\lib\\site-packages\\sklearn\\linear_model\\_logistic.py:460: ConvergenceWarning: lbfgs failed to converge (status=1):\n",
      "STOP: TOTAL NO. of ITERATIONS REACHED LIMIT.\n",
      "\n",
      "Increase the number of iterations (max_iter) or scale the data as shown in:\n",
      "    https://scikit-learn.org/stable/modules/preprocessing.html\n",
      "Please also refer to the documentation for alternative solver options:\n",
      "    https://scikit-learn.org/stable/modules/linear_model.html#logistic-regression\n",
      "  n_iter_i = _check_optimize_result(\n",
      "c:\\Users\\KDP-48\\anaconda3\\envs\\MY_PYTHON2_\\lib\\site-packages\\sklearn\\linear_model\\_logistic.py:460: ConvergenceWarning: lbfgs failed to converge (status=1):\n",
      "STOP: TOTAL NO. of ITERATIONS REACHED LIMIT.\n",
      "\n",
      "Increase the number of iterations (max_iter) or scale the data as shown in:\n",
      "    https://scikit-learn.org/stable/modules/preprocessing.html\n",
      "Please also refer to the documentation for alternative solver options:\n",
      "    https://scikit-learn.org/stable/modules/linear_model.html#logistic-regression\n",
      "  n_iter_i = _check_optimize_result(\n",
      "c:\\Users\\KDP-48\\anaconda3\\envs\\MY_PYTHON2_\\lib\\site-packages\\sklearn\\linear_model\\_logistic.py:460: ConvergenceWarning: lbfgs failed to converge (status=1):\n",
      "STOP: TOTAL NO. of ITERATIONS REACHED LIMIT.\n",
      "\n",
      "Increase the number of iterations (max_iter) or scale the data as shown in:\n",
      "    https://scikit-learn.org/stable/modules/preprocessing.html\n",
      "Please also refer to the documentation for alternative solver options:\n",
      "    https://scikit-learn.org/stable/modules/linear_model.html#logistic-regression\n",
      "  n_iter_i = _check_optimize_result(\n",
      "c:\\Users\\KDP-48\\anaconda3\\envs\\MY_PYTHON2_\\lib\\site-packages\\sklearn\\linear_model\\_logistic.py:460: ConvergenceWarning: lbfgs failed to converge (status=1):\n",
      "STOP: TOTAL NO. of ITERATIONS REACHED LIMIT.\n",
      "\n",
      "Increase the number of iterations (max_iter) or scale the data as shown in:\n",
      "    https://scikit-learn.org/stable/modules/preprocessing.html\n",
      "Please also refer to the documentation for alternative solver options:\n",
      "    https://scikit-learn.org/stable/modules/linear_model.html#logistic-regression\n",
      "  n_iter_i = _check_optimize_result(\n",
      "c:\\Users\\KDP-48\\anaconda3\\envs\\MY_PYTHON2_\\lib\\site-packages\\sklearn\\linear_model\\_logistic.py:460: ConvergenceWarning: lbfgs failed to converge (status=1):\n",
      "STOP: TOTAL NO. of ITERATIONS REACHED LIMIT.\n",
      "\n",
      "Increase the number of iterations (max_iter) or scale the data as shown in:\n",
      "    https://scikit-learn.org/stable/modules/preprocessing.html\n",
      "Please also refer to the documentation for alternative solver options:\n",
      "    https://scikit-learn.org/stable/modules/linear_model.html#logistic-regression\n",
      "  n_iter_i = _check_optimize_result(\n",
      "c:\\Users\\KDP-48\\anaconda3\\envs\\MY_PYTHON2_\\lib\\site-packages\\sklearn\\linear_model\\_logistic.py:460: ConvergenceWarning: lbfgs failed to converge (status=1):\n",
      "STOP: TOTAL NO. of ITERATIONS REACHED LIMIT.\n",
      "\n",
      "Increase the number of iterations (max_iter) or scale the data as shown in:\n",
      "    https://scikit-learn.org/stable/modules/preprocessing.html\n",
      "Please also refer to the documentation for alternative solver options:\n",
      "    https://scikit-learn.org/stable/modules/linear_model.html#logistic-regression\n",
      "  n_iter_i = _check_optimize_result(\n",
      "c:\\Users\\KDP-48\\anaconda3\\envs\\MY_PYTHON2_\\lib\\site-packages\\sklearn\\linear_model\\_logistic.py:460: ConvergenceWarning: lbfgs failed to converge (status=1):\n",
      "STOP: TOTAL NO. of ITERATIONS REACHED LIMIT.\n",
      "\n",
      "Increase the number of iterations (max_iter) or scale the data as shown in:\n",
      "    https://scikit-learn.org/stable/modules/preprocessing.html\n",
      "Please also refer to the documentation for alternative solver options:\n",
      "    https://scikit-learn.org/stable/modules/linear_model.html#logistic-regression\n",
      "  n_iter_i = _check_optimize_result(\n",
      "c:\\Users\\KDP-48\\anaconda3\\envs\\MY_PYTHON2_\\lib\\site-packages\\sklearn\\model_selection\\_validation.py:425: FitFailedWarning: \n",
      "180 fits failed out of a total of 270.\n",
      "The score on these train-test partitions for these parameters will be set to nan.\n",
      "If these failures are not expected, you can try to debug them by setting error_score='raise'.\n",
      "\n",
      "Below are more details about the failures:\n",
      "--------------------------------------------------------------------------------\n",
      "90 fits failed with the following error:\n",
      "Traceback (most recent call last):\n",
      "  File \"c:\\Users\\KDP-48\\anaconda3\\envs\\MY_PYTHON2_\\lib\\site-packages\\sklearn\\model_selection\\_validation.py\", line 732, in _fit_and_score\n",
      "    estimator.fit(X_train, y_train, **fit_params)\n",
      "  File \"c:\\Users\\KDP-48\\anaconda3\\envs\\MY_PYTHON2_\\lib\\site-packages\\sklearn\\base.py\", line 1151, in wrapper\n",
      "    return fit_method(estimator, *args, **kwargs)\n",
      "  File \"c:\\Users\\KDP-48\\anaconda3\\envs\\MY_PYTHON2_\\lib\\site-packages\\sklearn\\linear_model\\_logistic.py\", line 1168, in fit\n",
      "    solver = _check_solver(self.solver, self.penalty, self.dual)\n",
      "  File \"c:\\Users\\KDP-48\\anaconda3\\envs\\MY_PYTHON2_\\lib\\site-packages\\sklearn\\linear_model\\_logistic.py\", line 56, in _check_solver\n",
      "    raise ValueError(\n",
      "ValueError: Solver lbfgs supports only 'l2' or 'none' penalties, got l1 penalty.\n",
      "\n",
      "--------------------------------------------------------------------------------\n",
      "90 fits failed with the following error:\n",
      "Traceback (most recent call last):\n",
      "  File \"c:\\Users\\KDP-48\\anaconda3\\envs\\MY_PYTHON2_\\lib\\site-packages\\sklearn\\model_selection\\_validation.py\", line 732, in _fit_and_score\n",
      "    estimator.fit(X_train, y_train, **fit_params)\n",
      "  File \"c:\\Users\\KDP-48\\anaconda3\\envs\\MY_PYTHON2_\\lib\\site-packages\\sklearn\\base.py\", line 1151, in wrapper\n",
      "    return fit_method(estimator, *args, **kwargs)\n",
      "  File \"c:\\Users\\KDP-48\\anaconda3\\envs\\MY_PYTHON2_\\lib\\site-packages\\sklearn\\linear_model\\_logistic.py\", line 1168, in fit\n",
      "    solver = _check_solver(self.solver, self.penalty, self.dual)\n",
      "  File \"c:\\Users\\KDP-48\\anaconda3\\envs\\MY_PYTHON2_\\lib\\site-packages\\sklearn\\linear_model\\_logistic.py\", line 56, in _check_solver\n",
      "    raise ValueError(\n",
      "ValueError: Solver lbfgs supports only 'l2' or 'none' penalties, got elasticnet penalty.\n",
      "\n",
      "  warnings.warn(some_fits_failed_message, FitFailedWarning)\n",
      "c:\\Users\\KDP-48\\anaconda3\\envs\\MY_PYTHON2_\\lib\\site-packages\\sklearn\\model_selection\\_search.py:976: UserWarning: One or more of the test scores are non-finite: [       nan 0.51322426        nan        nan 0.51322426        nan\n",
      "        nan 0.51322426        nan        nan 0.55549555        nan\n",
      "        nan 0.55549555        nan        nan 0.55549555        nan\n",
      "        nan 0.6530257         nan        nan 0.6530257         nan\n",
      "        nan 0.6530257         nan        nan 0.71773943        nan\n",
      "        nan 0.71773943        nan        nan 0.71773943        nan\n",
      "        nan 0.74962781        nan        nan 0.74891859        nan\n",
      "        nan 0.74891859        nan        nan 0.76710599        nan\n",
      "        nan 0.76663289        nan        nan 0.76663289        nan]\n",
      "  warnings.warn(\n",
      "c:\\Users\\KDP-48\\anaconda3\\envs\\MY_PYTHON2_\\lib\\site-packages\\sklearn\\linear_model\\_logistic.py:460: ConvergenceWarning: lbfgs failed to converge (status=1):\n",
      "STOP: TOTAL NO. of ITERATIONS REACHED LIMIT.\n",
      "\n",
      "Increase the number of iterations (max_iter) or scale the data as shown in:\n",
      "    https://scikit-learn.org/stable/modules/preprocessing.html\n",
      "Please also refer to the documentation for alternative solver options:\n",
      "    https://scikit-learn.org/stable/modules/linear_model.html#logistic-regression\n",
      "  n_iter_i = _check_optimize_result(\n"
     ]
    }
   ],
   "source": [
    "gridResult=[]\n",
    "\n",
    "for model in trainModels:\n",
    "    model_name = model.__class__.__name__\n",
    "    if model_name in params.keys():\n",
    "        param_grid_ = params[model_name]\n",
    "        gridCV = GridSearchCV(model, param_grid=param_grid_)\n",
    "        gridCV.fit(train_X_scaled, trainy)\n",
    "        gridResult.append(gridCV.best_estimator_)\n",
    "        gridResult.append(gridCV.best_score_)"
   ]
  },
  {
   "cell_type": "code",
   "execution_count": 27,
   "metadata": {},
   "outputs": [
    {
     "data": {
      "text/plain": [
       "[KNeighborsClassifier(n_neighbors=4, weights='distance'),\n",
       " 0.8974827021248684,\n",
       " LogisticRegression(C=100),\n",
       " 0.7671059866417699,\n",
       " SGDClassifier(alpha=0.001, penalty='l1'),\n",
       " 0.7024017461154792,\n",
       " SVC(C=100, gamma=10),\n",
       " 0.8797695105238625]"
      ]
     },
     "execution_count": 27,
     "metadata": {},
     "output_type": "execute_result"
    }
   ],
   "source": [
    "gridResult"
   ]
  },
  {
   "cell_type": "code",
   "execution_count": 28,
   "metadata": {},
   "outputs": [
    {
     "name": "stdout",
     "output_type": "stream",
     "text": [
      "KNN : 학습 점수 1.0 테스트 점수 0.8865096359743041\n",
      "Logist : 학습 점수 0.7914501653282947 테스트 점수 0.8436830835117773\n",
      "SGD : 학습 점수 0.7061880018894662 테스트 점수 0.6788008565310493\n",
      "SVC : 학습 점수 0.9548889938592348 테스트 점수 0.880085653104925\n"
     ]
    }
   ],
   "source": [
    "est1=gridResult[0]\n",
    "est2=gridResult[2]\n",
    "est3=gridResult[4]\n",
    "est4=gridResult[6]\n",
    "\n",
    "print('KNN : 학습 점수',est1.score(train_X_scaled,trainy), '테스트 점수',est1.score(test_X_scaled,testy))\n",
    "print('Logist : 학습 점수',est2.score(train_X_scaled,trainy), '테스트 점수',est2.score(test_X_scaled,testy))\n",
    "print('SGD : 학습 점수',est3.score(train_X_scaled,trainy), '테스트 점수',est3.score(test_X_scaled,testy))\n",
    "print('SVC : 학습 점수',est4.score(train_X_scaled,trainy), '테스트 점수',est4.score(test_X_scaled,testy))"
   ]
  },
  {
   "cell_type": "code",
   "execution_count": 29,
   "metadata": {},
   "outputs": [
    {
     "name": "stdout",
     "output_type": "stream",
     "text": [
      "              precision    recall  f1-score   support\n",
      "\n",
      "           0       0.90      0.81      0.85        93\n",
      "           1       0.52      0.95      0.67        40\n",
      "           2       0.99      0.89      0.94       179\n",
      "           3       0.57      0.67      0.62         6\n",
      "           4       0.41      0.90      0.56        10\n",
      "           5       0.90      0.78      0.83       139\n",
      "\n",
      "    accuracy                           0.84       467\n",
      "   macro avg       0.72      0.83      0.75       467\n",
      "weighted avg       0.89      0.84      0.86       467\n",
      "\n"
     ]
    }
   ],
   "source": [
    "# classification_report 출력\n",
    "print(classification_report(testy, est2.predict(test_X_scaled)))"
   ]
  },
  {
   "cell_type": "code",
   "execution_count": 30,
   "metadata": {},
   "outputs": [
    {
     "name": "stderr",
     "output_type": "stream",
     "text": [
      "c:\\Users\\KDP-48\\anaconda3\\envs\\MY_PYTHON2_\\lib\\site-packages\\sklearn\\base.py:464: UserWarning: X does not have valid feature names, but StandardScaler was fitted with feature names\n",
      "  warnings.warn(\n"
     ]
    },
    {
     "data": {
      "text/plain": [
       "array([[-1.48940219,  0.01440668,  0.08217061, -0.50801645]])"
      ]
     },
     "execution_count": 30,
     "metadata": {},
     "output_type": "execute_result"
    }
   ],
   "source": [
    "input=[[10,10,10,10]]\n",
    "input_scaled=scale.transform(input)\n",
    "input_scaled"
   ]
  },
  {
   "cell_type": "code",
   "execution_count": 31,
   "metadata": {},
   "outputs": [
    {
     "data": {
      "text/plain": [
       "array([2])"
      ]
     },
     "execution_count": 31,
     "metadata": {},
     "output_type": "execute_result"
    }
   ],
   "source": [
    "est2.predict(input_scaled)"
   ]
  },
  {
   "cell_type": "code",
   "execution_count": 32,
   "metadata": {},
   "outputs": [],
   "source": [
    "# dump(est2, './model/classifier_model.joblib')"
   ]
  },
  {
   "cell_type": "code",
   "execution_count": 33,
   "metadata": {},
   "outputs": [],
   "source": [
    "# dump(scale, './model/classifier_scaler.joblib')"
   ]
  }
 ],
 "metadata": {
  "kernelspec": {
   "display_name": "MY_PYTHON2",
   "language": "python",
   "name": "python3"
  },
  "language_info": {
   "codemirror_mode": {
    "name": "ipython",
    "version": 3
   },
   "file_extension": ".py",
   "mimetype": "text/x-python",
   "name": "python",
   "nbconvert_exporter": "python",
   "pygments_lexer": "ipython3",
   "version": "3.8.18"
  }
 },
 "nbformat": 4,
 "nbformat_minor": 2
}
