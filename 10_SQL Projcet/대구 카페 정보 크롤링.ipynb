{
 "cells": [
  {
   "cell_type": "code",
   "execution_count": 2,
   "metadata": {},
   "outputs": [],
   "source": [
    "from selenium import webdriver\n",
    "from selenium import webdriver\n",
    "from selenium.webdriver.chrome.service import Service\n",
    "from selenium.webdriver.common.keys import Keys\n",
    "from selenium.webdriver.common.by import By\n",
    "import time\n",
    "from tqdm import tqdm\n",
    "import random\n",
    "import requests\n",
    "from bs4 import BeautifulSoup\n",
    "import pandas as pd\n",
    "import re"
   ]
  },
  {
   "cell_type": "markdown",
   "metadata": {},
   "source": [
    "# [1] 대구 행정구역별 카페 네이버 지도 크롤링"
   ]
  },
  {
   "cell_type": "code",
   "execution_count": null,
   "metadata": {},
   "outputs": [],
   "source": [
    "# 주소\n",
    "\n",
    "# 중구 : https://map.naver.com/p/search/%EB%8C%80%EA%B5%AC%20%EC%A4%91%EA%B5%AC%20%EC%B9%B4%ED%8E%98?c=13.00,0,0,0,dh\n",
    "# 북구 : https://map.naver.com/p/search/%EB%8C%80%EA%B5%AC%20%EB%B6%81%EA%B5%AC%20%EC%B9%B4%ED%8E%98?c=11.00,0,0,0,dh\n",
    "# 수성구 : https://map.naver.com/p/search/%EB%8C%80%EA%B5%AC%20%EC%88%98%EC%84%B1%EA%B5%AC%20%EC%B9%B4%ED%8E%98?c=12.00,0,0,0,dh\n",
    "# 달서구 : https://map.naver.com/p/search/%EB%8C%80%EA%B5%AC%20%EB%8B%AC%EC%84%9C%EA%B5%AC%20%EC%B9%B4%ED%8E%98?c=12.00,0,0,0,dh\n",
    "# 남구 : https://map.naver.com/p/search/%EB%8C%80%EA%B5%AC%20%EB%82%A8%EA%B5%AC%20%EC%B9%B4%ED%8E%98?c=13.00,0,0,0,dh\n",
    "# 서구 : https://map.naver.com/p/search/%EB%8C%80%EA%B5%AC%20%EC%84%9C%EA%B5%AC%20%EC%B9%B4%ED%8E%98?c=13.00,0,0,0,dh\n",
    "# 동구 : https://map.naver.com/p/search/%EB%8C%80%EA%B5%AC%20%EB%8F%99%EA%B5%AC%20%EC%B9%B4%ED%8E%98?c=11.00,0,0,0,dh\n",
    "# 달성군 : https://map.naver.com/p/search/%EB%8C%80%EA%B5%AC%20%EB%8B%AC%EC%84%B1%EA%B5%B0%20%EC%B9%B4%ED%8E%98?c=10.00,0,0,0,dh"
   ]
  },
  {
   "cell_type": "code",
   "execution_count": 28,
   "metadata": {},
   "outputs": [],
   "source": [
    "options = webdriver.ChromeOptions()\n",
    "\n",
    "dic={'User-Agent': 'Mozilla/5.0 (Macintosh; Intel Mac OS X 13_5_2'}\n",
    "\n",
    "service = Service(executable_path=\"./chromedriver.exe\")\n",
    "driver = webdriver.Chrome(service=service,options=options)\n",
    "driver.get(\"https://map.naver.com/p/search/%EB%8C%80%EA%B5%AC%20%EB%8B%AC%EC%84%B1%EA%B5%B0%20%EC%B9%B4%ED%8E%98?c=10.00,0,0,0,dh\")\n",
    "driver.implicitly_wait(6)\n",
    "time.sleep(3)"
   ]
  },
  {
   "cell_type": "code",
   "execution_count": 29,
   "metadata": {},
   "outputs": [],
   "source": [
    "frame=driver.find_element(By.CSS_SELECTOR,\"iframe#searchIframe\")\n",
    "driver.switch_to.frame(frame)"
   ]
  },
  {
   "cell_type": "markdown",
   "metadata": {},
   "source": [
    "- 카페 이름 크롤링"
   ]
  },
  {
   "cell_type": "code",
   "execution_count": 30,
   "metadata": {},
   "outputs": [
    {
     "name": "stderr",
     "output_type": "stream",
     "text": [
      "  0%|          | 0/6 [00:00<?, ?it/s]"
     ]
    },
    {
     "name": "stdout",
     "output_type": "stream",
     "text": [
      "54\n"
     ]
    },
    {
     "name": "stderr",
     "output_type": "stream",
     "text": [
      " 17%|█▋        | 1/6 [00:18<01:31, 18.39s/it]"
     ]
    },
    {
     "name": "stdout",
     "output_type": "stream",
     "text": [
      "50\n"
     ]
    },
    {
     "name": "stderr",
     "output_type": "stream",
     "text": [
      " 33%|███▎      | 2/6 [00:34<01:07, 16.78s/it]"
     ]
    },
    {
     "name": "stdout",
     "output_type": "stream",
     "text": [
      "50\n"
     ]
    },
    {
     "name": "stderr",
     "output_type": "stream",
     "text": [
      " 50%|█████     | 3/6 [00:49<00:48, 16.23s/it]"
     ]
    },
    {
     "name": "stdout",
     "output_type": "stream",
     "text": [
      "50\n"
     ]
    },
    {
     "name": "stderr",
     "output_type": "stream",
     "text": [
      " 67%|██████▋   | 4/6 [01:05<00:32, 16.18s/it]"
     ]
    },
    {
     "name": "stdout",
     "output_type": "stream",
     "text": [
      "50\n"
     ]
    },
    {
     "name": "stderr",
     "output_type": "stream",
     "text": [
      " 83%|████████▎ | 5/6 [01:21<00:15, 15.97s/it]"
     ]
    },
    {
     "name": "stdout",
     "output_type": "stream",
     "text": [
      "50\n"
     ]
    },
    {
     "name": "stderr",
     "output_type": "stream",
     "text": [
      "100%|██████████| 6/6 [01:37<00:00, 16.22s/it]\n"
     ]
    }
   ],
   "source": [
    "# 페이지 넘기기\n",
    "a=[]\n",
    "\n",
    "click_=driver.find_elements(By.CLASS_NAME, 'eUTV2')\n",
    "\n",
    "for n in tqdm(range(6)):\n",
    "    time.sleep(1)\n",
    "\n",
    "    # 스크롤 끝까지 내리기\n",
    "    scroll = driver.find_element(By.XPATH,'//*[@id=\"_pcmap_list_scroll_container\"]')\n",
    "    driver.execute_script(\"arguments[0].scrollBy(0,2000)\", scroll)\n",
    "    time.sleep(2)\n",
    "    driver.execute_script(\"arguments[0].scrollBy(0,2000);\", scroll)\n",
    "    time.sleep(2)\n",
    "    driver.execute_script(\"arguments[0].scrollBy(0,2000);\", scroll)\n",
    "    time.sleep(2)\n",
    "    driver.execute_script(\"arguments[0].scrollBy(0,2000);\", scroll)\n",
    "    time.sleep(2)\n",
    "    driver.execute_script(\"arguments[0].scrollBy(0,2000);\", scroll)\n",
    "    time.sleep(2)\n",
    "    driver.execute_script(\"arguments[0].scrollBy(0,2000);\", scroll)\n",
    "    time.sleep(2)\n",
    "    driver.execute_script(\"arguments[0].scrollBy(0,2000);\", scroll)\n",
    "    time.sleep(2)\n",
    "        \n",
    "    try:\n",
    "        # 카페 이름 따기\n",
    "        main=driver.find_elements(By.CSS_SELECTOR, \"div > span.place_bluelink.TYaxT\")\n",
    "        print(len(main))\n",
    "\n",
    "        for i in main:\n",
    "            a.append(i.text)\n",
    "            \n",
    "    except Exception as ea:\n",
    "        break\n",
    "    click_[1].click()"
   ]
  },
  {
   "cell_type": "code",
   "execution_count": 32,
   "metadata": {},
   "outputs": [
    {
     "name": "stderr",
     "output_type": "stream",
     "text": [
      "c:\\Users\\KDP-48\\anaconda3\\envs\\MY_PYTHON2\\lib\\site-packages\\pandas\\util\\_decorators.py:211: FutureWarning: the 'encoding' keyword is deprecated and will be removed in a future version. Please take steps to stop the use of 'encoding'\n",
      "  return func(*args, **kwargs)\n"
     ]
    }
   ],
   "source": [
    "df=pd.DataFrame(a)\n",
    "df.columns=['name']\n",
    "df.to_excel('달성군카페.xlsx',encoding='utf-8')\n"
   ]
  },
  {
   "cell_type": "code",
   "execution_count": null,
   "metadata": {},
   "outputs": [],
   "source": [
    "df=pd.read_excel('./달성군카페.xlsx',index_col=False)\n",
    "df"
   ]
  },
  {
   "cell_type": "code",
   "execution_count": 34,
   "metadata": {},
   "outputs": [],
   "source": [
    "b=[]\n",
    "for i in df['name']:\n",
    "    i=i.replace(' ','')\n",
    "    b.append(i)\n",
    "df['name']=b"
   ]
  },
  {
   "cell_type": "markdown",
   "metadata": {},
   "source": [
    "# 카페 이름을 네이버 통합검색에 검색해서 크롤링"
   ]
  },
  {
   "cell_type": "code",
   "execution_count": 35,
   "metadata": {},
   "outputs": [
    {
     "name": "stderr",
     "output_type": "stream",
     "text": [
      "100%|██████████| 304/304 [13:02<00:00,  2.57s/it]\n"
     ]
    }
   ],
   "source": [
    "a=[]\n",
    "\n",
    "for i in tqdm(df['name']):\n",
    "    url=f\"https://search.naver.com/search.naver?where=nexearch&sm=top_hty&fbm=0&ie=utf8&query=대구+{i}\"\n",
    "    response=requests.get(url,headers={'User-Agent':\"Mozilla/5.0 (Macintosh; Intel Mac OS X 13_5_2)\"})\n",
    "    bs=BeautifulSoup(response.text,'html.parser')\n",
    "\n",
    "    time.sleep(1.5+random.random())\n",
    "\n",
    "    try:\n",
    "        name = bs.find('span',class_='Fc1rA').text\n",
    "        local = bs.find('span',class_='LDgIH').text\n",
    "        review = bs.find('a',class_='place_bluelink').text\n",
    "        number = bs.find('span',class_ ='xlx7Q').text\n",
    "        a.append([name,local,review,number,url])\n",
    "    except:\n",
    "        pass"
   ]
  },
  {
   "cell_type": "code",
   "execution_count": 36,
   "metadata": {},
   "outputs": [
    {
     "name": "stderr",
     "output_type": "stream",
     "text": [
      "c:\\Users\\KDP-48\\anaconda3\\envs\\MY_PYTHON2\\lib\\site-packages\\pandas\\util\\_decorators.py:211: FutureWarning: the 'encoding' keyword is deprecated and will be removed in a future version. Please take steps to stop the use of 'encoding'\n",
      "  return func(*args, **kwargs)\n"
     ]
    }
   ],
   "source": [
    "DF=pd.DataFrame(a)\n",
    "DF.columns=['가게이름','주소','방문자리뷰','전화번호','url']\n",
    "DF.to_excel('달성군카페DF.xlsx',encoding='utf-8')"
   ]
  },
  {
   "cell_type": "markdown",
   "metadata": {},
   "source": [
    "# 카페 위치의 위도, 경도 구하기"
   ]
  },
  {
   "cell_type": "code",
   "execution_count": 15,
   "metadata": {},
   "outputs": [],
   "source": [
    "# 위도만\n",
    "def lat(address):\n",
    "    from geopy.geocoders import Nominatim\n",
    "    geolocoder = Nominatim(user_agent = 'South Korea', timeout=None)\n",
    "    geo = geolocoder.geocode(address)\n",
    "    lat = geo.latitude\n",
    "    return lat\n",
    "\n",
    "# 경도만\n",
    "def lng(address):\n",
    "    from geopy.geocoders import Nominatim\n",
    "    geolocoder = Nominatim(user_agent = 'South Korea', timeout=None)\n",
    "    geo = geolocoder.geocode(address)\n",
    "    lng = geo.longitude\n",
    "    return lng\n",
    "\n",
    "# 위도 경도 둘다\n",
    "def geocoding(address):\n",
    "    from geopy.geocoders import Nominatim\n",
    "    geolocoder = Nominatim(user_agent = 'South Korea', timeout=None)\n",
    "    geo = geolocoder.geocode(address)\n",
    "    crd = {\"lat\": geo.latitude, \"lng\": geo.longitude}\n",
    "    return crd"
   ]
  },
  {
   "cell_type": "code",
   "execution_count": 45,
   "metadata": {},
   "outputs": [],
   "source": [
    "DF1=pd.read_excel('./수성구카페DF.xlsx')\n",
    "DF2=pd.read_excel('./서구카페DF.xlsx')\n",
    "DF3=pd.read_excel('./북구카페DF.xlsx')\n",
    "DF4=pd.read_excel('./동구카페DF.xlsx')\n",
    "DF5=pd.read_excel('./달서구카페DF.xlsx')\n",
    "DF6=pd.read_excel('./남구카페DF.xlsx')\n",
    "DF7=pd.read_excel('./달성군카페DF.xlsx')\n",
    "DF8=pd.read_excel('./중구카페DF.xlsx')"
   ]
  },
  {
   "cell_type": "code",
   "execution_count": 39,
   "metadata": {},
   "outputs": [],
   "source": [
    "DF=pd.concat([DF1,DF2,DF3,DF4,DF5,DF6,DF7])"
   ]
  },
  {
   "cell_type": "code",
   "execution_count": 12,
   "metadata": {},
   "outputs": [],
   "source": [
    "Food=pd.read_excel('./DaeguFood.xlsx')\n",
    "Food=Food[['가게명','주소','리뷰갯수','전화번호','지역']]"
   ]
  },
  {
   "cell_type": "code",
   "execution_count": 16,
   "metadata": {},
   "outputs": [
    {
     "name": "stderr",
     "output_type": "stream",
     "text": [
      "100%|██████████| 1763/1763 [34:16<00:00,  1.17s/it]\n"
     ]
    }
   ],
   "source": [
    "a=Food['주소'].to_list()\n",
    "b=[]\n",
    "c=[]\n",
    "\n",
    "for i in tqdm(a) :\n",
    "    try:\n",
    "        b.append(lat(i))\n",
    "        c.append(lng(i))\n",
    "    except:\n",
    "        b.append(0)\n",
    "        c.append(0)"
   ]
  },
  {
   "cell_type": "code",
   "execution_count": 18,
   "metadata": {},
   "outputs": [],
   "source": [
    "Food['위도']=b\n",
    "Food['경도']=c"
   ]
  },
  {
   "cell_type": "code",
   "execution_count": 20,
   "metadata": {},
   "outputs": [],
   "source": [
    "Food.to_csv('daeguFood.csv',encoding='utf-8')"
   ]
  },
  {
   "cell_type": "code",
   "execution_count": 49,
   "metadata": {},
   "outputs": [],
   "source": [
    "DF_f=DF[['가게이름','주소','방문자리뷰','전화번호','url','위도','경도']]"
   ]
  },
  {
   "cell_type": "code",
   "execution_count": 6,
   "metadata": {},
   "outputs": [],
   "source": [
    "ab=[]\n",
    "\n",
    "for i in Food['리뷰갯수']:\n",
    "    i=i.replace(',','')\n",
    "    if i=='전체보기':\n",
    "        pass\n",
    "    else:\n",
    "        ab.append(i)\n",
    "\n",
    "Food['리뷰갯수']=ab"
   ]
  },
  {
   "cell_type": "code",
   "execution_count": 16,
   "metadata": {},
   "outputs": [
    {
     "data": {
      "text/html": [
       "<div>\n",
       "<style scoped>\n",
       "    .dataframe tbody tr th:only-of-type {\n",
       "        vertical-align: middle;\n",
       "    }\n",
       "\n",
       "    .dataframe tbody tr th {\n",
       "        vertical-align: top;\n",
       "    }\n",
       "\n",
       "    .dataframe thead th {\n",
       "        text-align: right;\n",
       "    }\n",
       "</style>\n",
       "<table border=\"1\" class=\"dataframe\">\n",
       "  <thead>\n",
       "    <tr style=\"text-align: right;\">\n",
       "      <th></th>\n",
       "      <th>가게이름</th>\n",
       "      <th>주소</th>\n",
       "      <th>방문자리뷰</th>\n",
       "      <th>전화번호</th>\n",
       "      <th>url</th>\n",
       "      <th>위도</th>\n",
       "      <th>경도</th>\n",
       "    </tr>\n",
       "  </thead>\n",
       "  <tbody>\n",
       "    <tr>\n",
       "      <th>0</th>\n",
       "      <td>카페오굿</td>\n",
       "      <td>대구 수성구 달구벌대로492길 45-2</td>\n",
       "      <td>200</td>\n",
       "      <td>0507-0289-3526</td>\n",
       "      <td>https://search.naver.com/search.naver?where=ne...</td>\n",
       "      <td>35.857867</td>\n",
       "      <td>128.632206</td>\n",
       "    </tr>\n",
       "    <tr>\n",
       "      <th>1</th>\n",
       "      <td>카페동이 2호점</td>\n",
       "      <td>대구 수성구 수성로69길 65</td>\n",
       "      <td>2243</td>\n",
       "      <td>0507-1313-0614</td>\n",
       "      <td>https://search.naver.com/search.naver?where=ne...</td>\n",
       "      <td>35.856049</td>\n",
       "      <td>128.610679</td>\n",
       "    </tr>\n",
       "    <tr>\n",
       "      <th>2</th>\n",
       "      <td>무화커피</td>\n",
       "      <td>대구 수성구 국채보상로186길 81</td>\n",
       "      <td>1271</td>\n",
       "      <td>0507-1437-9188</td>\n",
       "      <td>https://search.naver.com/search.naver?where=ne...</td>\n",
       "      <td>35.863602</td>\n",
       "      <td>128.634176</td>\n",
       "    </tr>\n",
       "    <tr>\n",
       "      <th>3</th>\n",
       "      <td>딥커피로스터스 범어</td>\n",
       "      <td>대구 수성구 범어천로 155-1</td>\n",
       "      <td>32</td>\n",
       "      <td>0507-1487-3444</td>\n",
       "      <td>https://search.naver.com/search.naver?where=ne...</td>\n",
       "      <td>35.863935</td>\n",
       "      <td>128.618797</td>\n",
       "    </tr>\n",
       "    <tr>\n",
       "      <th>4</th>\n",
       "      <td>에폰베이크샵</td>\n",
       "      <td>대구 수성구 범어로24길 14</td>\n",
       "      <td>116</td>\n",
       "      <td>0507-1431-5153</td>\n",
       "      <td>https://search.naver.com/search.naver?where=ne...</td>\n",
       "      <td>35.860216</td>\n",
       "      <td>128.636523</td>\n",
       "    </tr>\n",
       "    <tr>\n",
       "      <th>...</th>\n",
       "      <td>...</td>\n",
       "      <td>...</td>\n",
       "      <td>...</td>\n",
       "      <td>...</td>\n",
       "      <td>...</td>\n",
       "      <td>...</td>\n",
       "      <td>...</td>\n",
       "    </tr>\n",
       "    <tr>\n",
       "      <th>1869</th>\n",
       "      <td>삼더크</td>\n",
       "      <td>대구 중구 달구벌대로443길 44-3</td>\n",
       "      <td>179</td>\n",
       "      <td>0507-1376-1010</td>\n",
       "      <td>https://search.naver.com/search.naver?where=ne...</td>\n",
       "      <td>35.864579</td>\n",
       "      <td>128.606755</td>\n",
       "    </tr>\n",
       "    <tr>\n",
       "      <th>1870</th>\n",
       "      <td>유어박스 동성로점</td>\n",
       "      <td>대구 중구 중앙대로81길 13</td>\n",
       "      <td>43</td>\n",
       "      <td>0507-1378-9122</td>\n",
       "      <td>https://search.naver.com/search.naver?where=ne...</td>\n",
       "      <td>35.869509</td>\n",
       "      <td>128.589466</td>\n",
       "    </tr>\n",
       "    <tr>\n",
       "      <th>1871</th>\n",
       "      <td>키오키</td>\n",
       "      <td>대구 중구 달구벌대로443길 7-19</td>\n",
       "      <td>165</td>\n",
       "      <td>0507-1305-4107</td>\n",
       "      <td>https://search.naver.com/search.naver?where=ne...</td>\n",
       "      <td>35.863430</td>\n",
       "      <td>128.604286</td>\n",
       "    </tr>\n",
       "    <tr>\n",
       "      <th>1872</th>\n",
       "      <td>동그라미과자점</td>\n",
       "      <td>대구 중구 명륜로23길 26</td>\n",
       "      <td>255</td>\n",
       "      <td>0507-1446-5010</td>\n",
       "      <td>https://search.naver.com/search.naver?where=ne...</td>\n",
       "      <td>35.861698</td>\n",
       "      <td>128.596045</td>\n",
       "    </tr>\n",
       "    <tr>\n",
       "      <th>1873</th>\n",
       "      <td>고바슨 반달스퀘어점</td>\n",
       "      <td>대구 중구 달구벌대로 2095</td>\n",
       "      <td>1427</td>\n",
       "      <td>053-217-3388</td>\n",
       "      <td>https://search.naver.com/search.naver?where=ne...</td>\n",
       "      <td>35.866307</td>\n",
       "      <td>128.592797</td>\n",
       "    </tr>\n",
       "  </tbody>\n",
       "</table>\n",
       "<p>1874 rows × 7 columns</p>\n",
       "</div>"
      ],
      "text/plain": [
       "            가게이름                     주소 방문자리뷰            전화번호  \\\n",
       "0           카페오굿  대구 수성구 달구벌대로492길 45-2   200  0507-0289-3526   \n",
       "1       카페동이 2호점       대구 수성구 수성로69길 65  2243  0507-1313-0614   \n",
       "2           무화커피    대구 수성구 국채보상로186길 81  1271  0507-1437-9188   \n",
       "3     딥커피로스터스 범어      대구 수성구 범어천로 155-1    32  0507-1487-3444   \n",
       "4         에폰베이크샵       대구 수성구 범어로24길 14   116  0507-1431-5153   \n",
       "...          ...                    ...   ...             ...   \n",
       "1869         삼더크   대구 중구 달구벌대로443길 44-3   179  0507-1376-1010   \n",
       "1870   유어박스 동성로점       대구 중구 중앙대로81길 13    43  0507-1378-9122   \n",
       "1871         키오키   대구 중구 달구벌대로443길 7-19   165  0507-1305-4107   \n",
       "1872     동그라미과자점        대구 중구 명륜로23길 26   255  0507-1446-5010   \n",
       "1873  고바슨 반달스퀘어점       대구 중구 달구벌대로 2095  1427    053-217-3388   \n",
       "\n",
       "                                                    url         위도          경도  \n",
       "0     https://search.naver.com/search.naver?where=ne...  35.857867  128.632206  \n",
       "1     https://search.naver.com/search.naver?where=ne...  35.856049  128.610679  \n",
       "2     https://search.naver.com/search.naver?where=ne...  35.863602  128.634176  \n",
       "3     https://search.naver.com/search.naver?where=ne...  35.863935  128.618797  \n",
       "4     https://search.naver.com/search.naver?where=ne...  35.860216  128.636523  \n",
       "...                                                 ...        ...         ...  \n",
       "1869  https://search.naver.com/search.naver?where=ne...  35.864579  128.606755  \n",
       "1870  https://search.naver.com/search.naver?where=ne...  35.869509  128.589466  \n",
       "1871  https://search.naver.com/search.naver?where=ne...  35.863430  128.604286  \n",
       "1872  https://search.naver.com/search.naver?where=ne...  35.861698  128.596045  \n",
       "1873  https://search.naver.com/search.naver?where=ne...  35.866307  128.592797  \n",
       "\n",
       "[1874 rows x 7 columns]"
      ]
     },
     "execution_count": 16,
     "metadata": {},
     "output_type": "execute_result"
    }
   ],
   "source": [
    "DF_f"
   ]
  },
  {
   "cell_type": "code",
   "execution_count": 18,
   "metadata": {},
   "outputs": [],
   "source": [
    "DF_f.to_excel('카페DF.xlsx',encoding='utf-8')"
   ]
  },
  {
   "cell_type": "markdown",
   "metadata": {},
   "source": [
    "# MariaDB에 데이터추가"
   ]
  },
  {
   "cell_type": "code",
   "execution_count": 2,
   "metadata": {},
   "outputs": [],
   "source": [
    "import mariadb as mdb\n",
    "\n",
    "conn_params = {'host':'172.20.41.42',\n",
    "               'user':'member2',\n",
    "               'passwd' : 'member2',\n",
    "               'port' : 3307,\n",
    "               'db' : 'ProjectDB',\n",
    "               'autocommit' : True}"
   ]
  },
  {
   "cell_type": "code",
   "execution_count": 24,
   "metadata": {},
   "outputs": [],
   "source": [
    "try:\n",
    "\n",
    "    # mariaDB 연결\n",
    "    connDB=mdb.connect(**conn_params)\n",
    "\n",
    "    # DB에 접근할 수 있는 Cursor객체 가져오기\n",
    "    cursor=connDB.cursor()\n",
    "\n",
    "    # # DB에 테이블 만들기\n",
    "    create_table_query = \"\"\"\n",
    "    CREATE TABLE Cafe (\n",
    "        가게이름 varchar(100),\n",
    "        주소 varchar(255),\n",
    "        방문자리뷰 ,\n",
    "        전화번호 varchar(30),\n",
    "        url varchar(255),\n",
    "        위도 float,\n",
    "        경도 float\n",
    "    )\n",
    "    \"\"\"\n",
    "    cursor.execute(create_table_query)\n",
    "\n",
    "    \n",
    "    # 엑셀 파일 경로\n",
    "    excel_path='./카페DF.xlsx'\n",
    "\n",
    "    # 엑셀 파일 읽기\n",
    "    data_frame = pd.read_excel(excel_path)\n",
    "\n",
    "    # 데이터 프레임 반복문으로 순회하며 INSERT 쿼리 실행\n",
    "    for index, row in data_frame.iterrows():\n",
    "        column1_value = row['가게이름']\n",
    "        column2_value = row['주소']\n",
    "        column3_value = int(row['방문자리뷰'])\n",
    "        column4_value = row['전화번호']\n",
    "        column5_value = row['url']\n",
    "        column6_value = row['위도']\n",
    "        column7_value = row['경도']\n",
    "\n",
    "        # INSERT 쿼리 실행\n",
    "        insert_query = f\"INSERT INTO Cafe (가게이름, 주소, 방문자리뷰, 전화번호, url, 위도, 경도)\n",
    "        VALUES ('{column1_value}', '{column2_value}','{column3_value}','{column4_value}',\n",
    "        '{column5_value}','{column6_value}','{column7_value}')\"\n",
    "        cursor.execute(insert_query)\n",
    "\n",
    "\n",
    "    print('OK')\n",
    "    # 현재 데이터베이스의 모든 테이블 조회 쿼리 실행\n",
    "    show_tables_query = \"SHOW TABLES\"\n",
    "    cursor.execute(show_tables_query)\n",
    "\n",
    "    # 결과 가져오기\n",
    "    tables = cursor.fetchall()\n",
    "    print('OK')\n",
    "\n",
    "    # 변경사항 저장 및 연결 종료\n",
    "    connDB.commit()\n",
    "    connDB.close()\n",
    "\n",
    "\n",
    "\n",
    "\n",
    "\n",
    "except mdb.Error as e:\n",
    "    print(f'Error: {e}')"
   ]
  }
 ],
 "metadata": {
  "kernelspec": {
   "display_name": "MY_PYTHON2",
   "language": "python",
   "name": "python3"
  },
  "language_info": {
   "codemirror_mode": {
    "name": "ipython",
    "version": 3
   },
   "file_extension": ".py",
   "mimetype": "text/x-python",
   "name": "python",
   "nbconvert_exporter": "python",
   "pygments_lexer": "ipython3",
   "version": "3.8.18"
  }
 },
 "nbformat": 4,
 "nbformat_minor": 2
}
